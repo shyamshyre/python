{
 "metadata": {
  "language_info": {
   "codemirror_mode": {
    "name": "ipython",
    "version": 3
   },
   "file_extension": ".py",
   "mimetype": "text/x-python",
   "name": "python",
   "nbconvert_exporter": "python",
   "pygments_lexer": "ipython3",
   "version": "3.8.3-final"
  },
  "orig_nbformat": 2,
  "kernelspec": {
   "name": "python3",
   "display_name": "Python 3.8.3 64-bit",
   "metadata": {
    "interpreter": {
     "hash": "0adcc2737ebf6a4a119f135174df96668767fca1ef1112612db5ecadf2b6d608"
    }
   }
  }
 },
 "nbformat": 4,
 "nbformat_minor": 2,
 "cells": [
  {
   "cell_type": "code",
   "execution_count": null,
   "metadata": {},
   "outputs": [],
   "source": [
    "# Dictionary\n",
    "# This is different from other sequences/collections.\n",
    "# 1) it stores information in the key,value(K,V) format.\n",
    "# 2) Insertion order is not preserved.\n",
    "# 3) It is mutable (You can add/remove/update key,value pairs)\n",
    "# 4) It accepts hetrogenos elements as key/values \n",
    "# 5) It is unordered (because of hashfucntion underlying to the key)\n",
    "# 6) Doesnt allow duplicate keys.\n",
    "# 7) indexing and slicing not applicable as the order is not preserved.\n",
    "\n",
    "\n"
   ]
  },
  {
   "cell_type": "code",
   "execution_count": 4,
   "metadata": {},
   "outputs": [
    {
     "output_type": "stream",
     "name": "stdout",
     "text": [
      "RAM\n"
     ]
    }
   ],
   "source": [
    "d={1:\"RAM\",2:\"SHYAM\",3:\"ROBERT\",4:\"RAHIM\"}\n",
    "print(d[1])"
   ]
  },
  {
   "cell_type": "code",
   "execution_count": null,
   "metadata": {},
   "outputs": [],
   "source": [
    "# Here the value ram which is being holded by key value1 is replaced by sita\n",
    "# If we are trying to add duplicate keys , then old key  would be replaced by the new key.\n",
    "d={1:\"RAM\",2:\"SHYAM\",3:\"ROBERT\",4:\"RAHIM\",1:\"SITA\"}\n",
    "print(d[1])"
   ]
  },
  {
   "cell_type": "code",
   "execution_count": 5,
   "metadata": {},
   "outputs": [
    {
     "output_type": "stream",
     "name": "stdout",
     "text": [
      "{1: 'SITA', 2: 'SHYAM', 3: 'ROBERT', 4: 'RAHIM', 'A': 1234}\n"
     ]
    }
   ],
   "source": [
    "d={1:\"RAM\",2:\"SHYAM\",3:\"ROBERT\",4:\"RAHIM\",1:\"SITA\",'A':1234}\n",
    "print(d)"
   ]
  },
  {
   "cell_type": "code",
   "execution_count": 7,
   "metadata": {},
   "outputs": [
    {
     "output_type": "stream",
     "name": "stdout",
     "text": [
      "{1: 'Indian', 2: 'Learning', 3: 'Python', 4: 'is', 5: 'Easy'}\n{1: 'SITA', 2: 'SHYAM', 3: 'ROBERT', 4: 'RAHIM', 'A': 1234}\n"
     ]
    }
   ],
   "source": [
    "# Creating Dictionary\n",
    "\n",
    "d={}\n",
    "# Empty set is treated as dict , because both use curly braces\n",
    "d=dict()\n",
    "# we can even create dict as follows.\n",
    "d[1]=\"Indian\"\n",
    "d[2]=\"Learning\"\n",
    "d[3]=\"Python\"\n",
    "d[4]=\"is\"\n",
    "d[5]=\"Easy\"\n",
    "print(d)\n",
    "\n",
    "# If we already know the values inside the dict then it could be declared as follows.\n",
    "d1={1:\"RAM\",2:\"SHYAM\",3:\"ROBERT\",4:\"RAHIM\",1:\"SITA\",'A':1234}\n",
    "print(d1)\n"
   ]
  },
  {
   "cell_type": "code",
   "execution_count": 12,
   "metadata": {},
   "outputs": [
    {
     "output_type": "stream",
     "name": "stdout",
     "text": [
      "Indian\n{1: 'Indian', 2: 'Learning', 'is': 'Programming', 3: 'Python', 4: 'is', 5: 'Easy'}\nProgramming\n"
     ]
    }
   ],
   "source": [
    "# Accessing Elements in the Dictinoary\n",
    "d={}\n",
    "d[1]=\"Indian\"\n",
    "d[2]=\"Learning\"\n",
    "d['is']=\"Programming\"\n",
    "d[3]=\"Python\"\n",
    "d[4]=\"is\"\n",
    "d[5]=\"Easy\"\n",
    "\n",
    "# We are accessing the element by key, but not by index.\n",
    "print(d[1])\n",
    "print(d)\n",
    "print(d[\"is\"])\n",
    "\n",
    "# print(d[0])\n",
    "# KeyError: because the key 0 doesnt exist in the dictinoary"
   ]
  },
  {
   "cell_type": "code",
   "execution_count": 43,
   "metadata": {},
   "outputs": [
    {
     "output_type": "stream",
     "name": "stdout",
     "text": [
      "{'shyamname': 'shyam', 'shyamgender': 'm', 'shyamsal': 1000}\nEmployee  \t  shyamname \t shyam\nEmployee  \t  shyamgender \t m\nEmployee  \t  shyamsal \t 1000\n"
     ]
    }
   ],
   "source": [
    "# WAP to display employees information using Dictinoary\n",
    "employees={}\n",
    "empcount=(int(input(\"Enter the number of employees\")))\n",
    "i=0\n",
    "while i<empcount:\n",
    "    name=input(\"Enter employee name : \")\n",
    "    gender=input(\"Enter employee gender : \")\n",
    "    sal=(int(input(\"Enter employee salary : \")))\n",
    "    employees[name+\"name\"]= name\n",
    "    employees[name+\"gender\"] = gender\n",
    "    employees[name+\"sal\"] = sal\n",
    "    i+=1\n",
    "print(employees)\n",
    "for j in employees:\n",
    "     print(\"Employee  \\t \",j, \"\\t\", employees[j] )\n",
    "\n",
    "\n"
   ]
  },
  {
   "cell_type": "code",
   "execution_count": 45,
   "metadata": {},
   "outputs": [
    {
     "output_type": "stream",
     "name": "stdout",
     "text": [
      "{2: 'SHYAM', 3: 'ROBERT', 4: 'RAHIM', 'A': 1234}\n"
     ]
    },
    {
     "output_type": "error",
     "ename": "KeyError",
     "evalue": "1",
     "traceback": [
      "\u001b[0;31m---------------------------------------------------------------------------\u001b[0m",
      "\u001b[0;31mKeyError\u001b[0m                                  Traceback (most recent call last)",
      "\u001b[0;32m<ipython-input-45-bfb98bb268e3>\u001b[0m in \u001b[0;36m<module>\u001b[0;34m\u001b[0m\n\u001b[1;32m      5\u001b[0m \u001b[0mprint\u001b[0m\u001b[0;34m(\u001b[0m\u001b[0md\u001b[0m\u001b[0;34m)\u001b[0m\u001b[0;34m\u001b[0m\u001b[0;34m\u001b[0m\u001b[0m\n\u001b[1;32m      6\u001b[0m \u001b[0;34m\u001b[0m\u001b[0m\n\u001b[0;32m----> 7\u001b[0;31m \u001b[0;32mdel\u001b[0m\u001b[0;34m(\u001b[0m\u001b[0md\u001b[0m\u001b[0;34m[\u001b[0m\u001b[0;36m1\u001b[0m\u001b[0;34m]\u001b[0m\u001b[0;34m)\u001b[0m\u001b[0;34m\u001b[0m\u001b[0;34m\u001b[0m\u001b[0m\n\u001b[0m",
      "\u001b[0;31mKeyError\u001b[0m: 1"
     ]
    }
   ],
   "source": [
    "# WAP to delete the elements from the Dictionary\n",
    "d={1:\"RAM\",2:\"SHYAM\",3:\"ROBERT\",4:\"RAHIM\",1:\"SITA\",'A':1234}\n",
    "# del is used to delete the elements inside the dictionary\n",
    "del(d[1])\n",
    "print(d)\n",
    "\n",
    "del(d[1])\n",
    "# if trying to delete an element that doesnt exist in the dictionary returns the key error.\n"
   ]
  },
  {
   "cell_type": "code",
   "execution_count": 47,
   "metadata": {},
   "outputs": [
    {
     "output_type": "stream",
     "name": "stdout",
     "text": [
      "True\n"
     ]
    }
   ],
   "source": [
    "d={1:\"RAM\",2:\"SHYAM\",3:\"ROBERT\",4:\"RAHIM\",1:\"SITA\",'A':1234}\n",
    "\n",
    "# we can prevent the key error by checking has_key() -Python2.0\n",
    "# print(d.has_key(1))\n",
    "\n",
    "# Use memebership operator to check whether the element inside the dictionary or not before deleting to prevent key error.\n",
    "\n",
    "print(1 in d)\n",
    "\n"
   ]
  },
  {
   "cell_type": "code",
   "execution_count": 48,
   "metadata": {},
   "outputs": [
    {
     "output_type": "stream",
     "name": "stdout",
     "text": [
      "{1: 'SITA', 2: 'SHYAM', 3: 'ROBERT', 4: 'RAHIM', 'A': 1234}\n{1: 'bad', 2: 'SHYAM', 3: 'ROBERT', 4: 'RAHIM', 'A': 1234}\n"
     ]
    }
   ],
   "source": [
    "# Update elements in the dictionary\n",
    "d={1:\"RAM\",2:\"SHYAM\",3:\"ROBERT\",4:\"RAHIM\",1:\"SITA\",'A':1234}\n",
    "print(d)\n",
    "d[1]=\"bad\"\n",
    "print(d)\n",
    "\n",
    "# for the key 1 value is replaced by bad\n"
   ]
  },
  {
   "cell_type": "code",
   "execution_count": 54,
   "metadata": {},
   "outputs": [
    {
     "output_type": "stream",
     "name": "stdout",
     "text": [
      "SITA\nSHYAM\n{3: 'ROBERT', 4: 'RAHIM', 'A': 1234}\n"
     ]
    }
   ],
   "source": [
    "# Removing / deleting the elements inside the dictionary\n",
    "\n",
    "# del d.(key) -> Removes the key from the dictionary\n",
    "# d.clear() -> Removes all the elements inside the dictionary.\n",
    "# del d() -> removes the dictionary\n",
    "\n",
    "d={1:\"RAM\",2:\"SHYAM\",3:\"ROBERT\",4:\"RAHIM\",1:\"SITA\",'A':1234}\n",
    "# del d[1]\n",
    "# print(d)\n",
    "\n",
    "# print(d.clear())\n",
    "\n",
    "# del d\n",
    "# print(d)\n",
    "\n",
    "# pop() removes the element and returns the value\n",
    "print(d.pop(1))\n",
    "print(d.pop(2))\n",
    "print(d)\n",
    "\n",
    "# Output::\n",
    "# SITA\n",
    "# SHYAM\n",
    "# {3: 'ROBERT', 4: 'RAHIM', 'A': 1234}\n",
    "\n"
   ]
  },
  {
   "cell_type": "code",
   "execution_count": 69,
   "metadata": {},
   "outputs": [
    {
     "output_type": "stream",
     "name": "stdout",
     "text": [
      "5\nRAM\ndict_keys([1, 2, 3, 4, 'A'])\ndict_values(['RAM', 'SHYAM', 'ROBERT', 'RAHIM', 1234])\ndict_items([(1, 'RAM'), (2, 'SHYAM'), (3, 'ROBERT'), (4, 'RAHIM'), ('A', 1234)])\n140499655596352\n140499123651072\n34\n1234\n{1: 'RAM', 2: 'SHYAM', 3: 'ROBERT', 4: 'RAHIM', 'A': 1234, 'c': 34, 'a': 'apple', 'b': 'boy'}\n"
     ]
    }
   ],
   "source": [
    "\n",
    "# Important functions in the Dictionary\n",
    "\n",
    "# 1) len()\n",
    "d={1:\"RAM\",2:\"SHYAM\",3:\"ROBERT\",4:\"RAHIM\",'A':1234}\n",
    "print(len(d))\n",
    "# 2)get(key,<default value>)\n",
    "# Returns the value of the key\n",
    "print(d.get(1),100)\n",
    "# 3) clear()\n",
    "# Removes all the elements inside the dict()\n",
    "# d.clear()\n",
    "# 4) pop(key)\n",
    "# Removes the value corresponding to the key.\n",
    "# if key doesnt exist it returns the key error.\n",
    "# 5) popitem()\n",
    "# Removes the random element from the dictionary.\n",
    "# d.popitem()\n",
    "# 6) keys()\n",
    "# Returns all the keys in the dictionary\n",
    "print(d.keys())\n",
    "# 7) values()\n",
    "# Returns all the values in the dictionary\n",
    "print(d.values())\n",
    "# 8)items()\n",
    "# Returns all the values int the (key, Value) pairs format.\n",
    "print(d.items())\n",
    "# 9) copy()\n",
    "# copies the dictionary to another refernce\n",
    "d1 = d.copy()\n",
    "print(id(d))\n",
    "print(id(d1))\n",
    "# 10) setdefault()\n",
    "# if the element doesnt exist with the given key and value in the collection it adds to it as the new element to the dictionary.\n",
    "# if the elment exist in the   dictionary then it returns the old value\n",
    "# Note:: New element to be added that not in the dictionary\n",
    "print(d.setdefault('c',34))\n",
    "# Output::34\n",
    "print(d.setdefault('A',5678))\n",
    "# Though trying to set 5678 to 'A' its returns the previous value only.\n",
    "# 1234\n",
    "\n",
    "# 11) update() adds another dictionary elements to the given collection(d).\n",
    "d1={'a':'apple','b':'boy'}\n",
    "d.update(d1)\n",
    "print(d)\n",
    "\n",
    "# 12) has_key()\n",
    "# returns 0 if the key doesnt exist\n",
    "#and 1 if the the key does exist\n",
    "\n"
   ]
  },
  {
   "cell_type": "code",
   "execution_count": 78,
   "metadata": {},
   "outputs": [
    {
     "output_type": "stream",
     "name": "stdout",
     "text": [
      "300\n"
     ]
    }
   ],
   "source": [
    "# WAP to print the input from ditionary and print the sum\n",
    "elements= eval(input(\"Enter the elements of your choice in key value format\"))\n",
    "print(sum(elements.values()))\n",
    "\n",
    "# Input:: {'M':100,'E':100,'S':100}\n"
   ]
  },
  {
   "cell_type": "code",
   "execution_count": 90,
   "metadata": {},
   "outputs": [
    {
     "output_type": "stream",
     "name": "stdout",
     "text": [
      "The Element w occured 1 times\nThe Element e occured 2 times\nThe Element l occured 1 times\nThe Element c occured 1 times\nThe Element o occured 1 times\nThe Element m occured 1 times\n{'w': 1, 'e': 2, 'l': 1, 'c': 1, 'o': 1, 'm': 1}\n"
     ]
    }
   ],
   "source": [
    "d={}\n",
    "s=input('Enter the string')\n",
    "for i in s:\n",
    "    d[i]= d.setdefault(i,0)+1\n",
    "for k,v in d.items():\n",
    "    print(\"The Element {} occured {} times\".format(k,v))"
   ]
  },
  {
   "cell_type": "code",
   "execution_count": 96,
   "metadata": {},
   "outputs": [
    {
     "output_type": "stream",
     "name": "stdout",
     "text": [
      "e 2\no 1\n{'e': 2, 'o': 1}\n"
     ]
    }
   ],
   "source": [
    "# WAP to find the number of occurrences of each vowel in the given string\n",
    "s=input(\"Enter the input string\")\n",
    "vowels=['a','e','i','o','u']\n",
    "d={}\n",
    "\n",
    "for i in s:\n",
    "    if i in vowels:\n",
    "       d[i]= d.get(i,0)+1\n",
    "for k,v in d.items():\n",
    "    print(k,v)\n",
    "# print(d)\n"
   ]
  },
  {
   "cell_type": "code",
   "execution_count": 4,
   "metadata": {},
   "outputs": [
    {
     "output_type": "stream",
     "name": "stdout",
     "text": [
      "{'shyam': 'shyam', 'shyammarks': '100', 'ram': 'ram', 'rammarks': '100'}\n",
      "Student Marks 100\n"
     ]
    }
   ],
   "source": [
    "# WAP to accept and print student marks\n",
    "students = int(input(\"Enter the number of students\"))\n",
    "counter=0\n",
    "studentrepo={}\n",
    "while counter<students:\n",
    "    name = input(\"Enter student name\")\n",
    "    marks = input(\"Enter marks\")\n",
    "    studentrepo[name]=name\n",
    "    studentrepo[name+\"marks\"]=marks\n",
    "    counter+=1\n",
    "print(studentrepo)\n",
    "studentname=input(\"Enter student name to get marks\")\n",
    "result=studentrepo.get(studentname+\"marks\",-1)\n",
    "if result == -1:\n",
    "    print(\"Student Not Found\")\n",
    "else:\n",
    "    print(\"Student Marks\",result)    \n",
    "\n"
   ]
  },
  {
   "cell_type": "code",
   "execution_count": 25,
   "metadata": {},
   "outputs": [
    {
     "output_type": "stream",
     "name": "stdout",
     "text": [
      "<class 'dict'>\n<class 'dict'>\n<class 'dict'>\n1 shyam\nage 32\n2 ram\n"
     ]
    }
   ],
   "source": [
    "# Merging of collections\n",
    "\n",
    "# List Merging\n",
    "# l1=[10,20,30]\n",
    "# l2=[20,30,50]\n",
    "# l3=l1+l2\n",
    "# print(l3)\n",
    "# + operator is used for merging but the same can be aplied for set and dict\n",
    "\n",
    "# Option 2: \n",
    "# l3=[*l1,*l2]\n",
    "# all elements in l1 and l2 are merged and returned to l3\n",
    "# print(l3)\n",
    "\n",
    "# Tuple Merging\n",
    "# t1=(10,20,30)\n",
    "# t2=(40,60,30)\n",
    "# t3=t1+t2\n",
    "# print(t3)\n",
    "\n",
    "# t1=(10,20,30)\n",
    "# t2=(40,60,30)\n",
    "# t3=(*t1,*t2)\n",
    "# print(t3)\n",
    "\n",
    "# s1={10,20,30}\n",
    "# s2={20,30,50}\n",
    "# s3=s1+s2\n",
    "# print(s3)\n",
    "\n",
    "# Result:: unsupported operand type(s) for +: 'set' and 'set'\n",
    "\n",
    "# s1={10,20,30}\n",
    "# s2={20,30,50}\n",
    "# s3={*s1,*s2}\n",
    "# print(s3)\n",
    "\n",
    "d1={1:\"shyam\",\"age\":\"12\"}\n",
    "d2={2:\"ram\",\"age\":\"32\"}\n",
    "print(type(d1))\n",
    "print(type(d2))\n",
    "# list,tuple,set all of them are single elements so assume its single *\n",
    "# dict has key,value pair so assume its double *\n",
    "\n",
    "d3={**d1,**d2}\n",
    "print(type(d3))\n",
    "for k,v in d3.items():\n",
    "    print(k,v)\n",
    "\n",
    "\n",
    "\n"
   ]
  },
  {
   "cell_type": "code",
   "execution_count": 57,
   "metadata": {},
   "outputs": [
    {
     "output_type": "stream",
     "name": "stdout",
     "text": [
      "20\nTesla\nMG\nTesla\nTata\ntvs\nhero\nsuzuki\n"
     ]
    }
   ],
   "source": [
    "l1=[(10,20,30),(40,50,60),{1,2,3},{'name':'Shyam','age':12}]\n",
    "# We have declared tuples inside a list, now we need ot figure out a way to access the elements in the list.\n",
    "# print(l1[0][1])\n",
    "# Accessing the set elements inside the list\n",
    "# for i in l1[2]:\n",
    "#     print(i)\n",
    "\n",
    "# for k,v in l1[3].items():\n",
    "#     if 'name' in l1[3]:\n",
    "#         print(k,v)\n",
    "\n",
    "d={\n",
    "    'cars':('MG','Tesla','Tata'),\n",
    "    'bikes':['tvs','hero','suzuki']\n",
    "}\n",
    "\n",
    "# I want to get tesla as the output\n",
    "print(d.get('cars')[1])\n",
    "\n",
    "# We are traversing the elements inside the ditionary and printing all the elements inside the tuple & list\n",
    "for e in d:\n",
    "    for i in d.get(e):\n",
    "        print(i)\n"
   ]
  },
  {
   "cell_type": "code",
   "execution_count": 122,
   "metadata": {},
   "outputs": [
    {
     "output_type": "stream",
     "name": "stdout",
     "text": [
      "Faveheal1\nvegetables\nfruits\npacks\n8\n10\n4\nFaveheal2\nvegetables\nfruits\npacks\n4\n5\n"
     ]
    }
   ],
   "source": [
    "\n",
    "   supermarket= {\n",
    "      \"store1\": {\n",
    "         \"name\": [\n",
    "            \"Faveheal1\"\n",
    "         ],\n",
    "         \"items\": {\n",
    "            \"name\": [\n",
    "               \"vegetables\",\n",
    "               \"fruits\",\n",
    "               \"packs\"\n",
    "            ],\n",
    "            \"quantity\": [\n",
    "               \"8\",\n",
    "               \"10\",\n",
    "               \"4\"\n",
    "            ]\n",
    "         }\n",
    "      },\n",
    "      \"store2\": {\n",
    "          \"name\": [\"Faveheal2\"],\n",
    "         \"items\": \n",
    "                {\n",
    "                \"name\": [ \"vegetables\",\"fruits\",\"packs\"],\n",
    "                \"quantity\": [\"4\",\"5\"]\n",
    "                }\n",
    "                }\n",
    "   }\n",
    "\n",
    "for store in supermarket:\n",
    "    storeinfo= supermarket.get(store)\n",
    "    for info in storeinfo:\n",
    "        result= storeinfo.get(info)\n",
    "        if len(result) ==1:\n",
    "            print(result[0])\n",
    "        else:\n",
    "            for finalresult in result:\n",
    "                sol= result.get(finalresult)\n",
    "                for ans in sol:\n",
    "                    print(ans)\n",
    "\n",
    "        \n",
    "\n",
    "        \n",
    "    \n",
    "\n"
   ]
  },
  {
   "cell_type": "code",
   "execution_count": 130,
   "metadata": {},
   "outputs": [
    {
     "output_type": "stream",
     "name": "stdout",
     "text": [
      "shyam\n{'eating', 'sleeping'}\n"
     ]
    }
   ],
   "source": [
    "employees={\n",
    "\"name\":\"shyam\",\n",
    "\"age\":36,\n",
    "\"marks\":[10,20,30],\n",
    "\"hobbies\":[\"childhood\",{\"eating\",\"sleeping\"},\"grownup\",{\"morning\":\"eating\",\"night\":\"dinner\"}]\n",
    "}\n",
    "\n",
    "print(employees.get(\"name\"))\n",
    "print(employees.get(\"hobbies\")[1])\n"
   ]
  },
  {
   "cell_type": "code",
   "execution_count": 162,
   "metadata": {},
   "outputs": [
    {
     "output_type": "error",
     "ename": "TypeError",
     "evalue": "unhashable type: 'set'",
     "traceback": [
      "\u001b[0;31m---------------------------------------------------------------------------\u001b[0m",
      "\u001b[0;31mTypeError\u001b[0m                                 Traceback (most recent call last)",
      "\u001b[0;32m<ipython-input-162-8171b4604d58>\u001b[0m in \u001b[0;36m<module>\u001b[0;34m\u001b[0m\n\u001b[1;32m     33\u001b[0m \u001b[0ml\u001b[0m\u001b[0;34m=\u001b[0m\u001b[0;34m[\u001b[0m\u001b[0;36m10\u001b[0m\u001b[0;34m,\u001b[0m\u001b[0;36m20\u001b[0m\u001b[0;34m,\u001b[0m\u001b[0;34m{\u001b[0m\u001b[0;36m30\u001b[0m\u001b[0;34m,\u001b[0m\u001b[0;36m40\u001b[0m\u001b[0;34m}\u001b[0m\u001b[0;34m,\u001b[0m\u001b[0;34m(\u001b[0m\u001b[0;36m40\u001b[0m\u001b[0;34m,\u001b[0m\u001b[0;36m50\u001b[0m\u001b[0;34m)\u001b[0m\u001b[0;34m,\u001b[0m\u001b[0;34m{\u001b[0m\u001b[0;34m\"s\"\u001b[0m\u001b[0;34m:\u001b[0m\u001b[0;34m\"s\"\u001b[0m\u001b[0;34m}\u001b[0m\u001b[0;34m]\u001b[0m\u001b[0;34m\u001b[0m\u001b[0;34m\u001b[0m\u001b[0m\n\u001b[1;32m     34\u001b[0m \u001b[0;31m# s={10,20,{30,40}}\u001b[0m\u001b[0;34m\u001b[0m\u001b[0;34m\u001b[0m\u001b[0;34m\u001b[0m\u001b[0m\n\u001b[0;32m---> 35\u001b[0;31m \u001b[0md\u001b[0m\u001b[0;34m=\u001b[0m\u001b[0;34m{\u001b[0m\u001b[0;34m{\u001b[0m\u001b[0;36m10\u001b[0m\u001b[0;34m,\u001b[0m\u001b[0;36m20\u001b[0m\u001b[0;34m,\u001b[0m\u001b[0;36m30\u001b[0m\u001b[0;34m}\u001b[0m\u001b[0;34m:\u001b[0m\u001b[0;34m[\u001b[0m\u001b[0;36m10\u001b[0m\u001b[0;34m]\u001b[0m\u001b[0;34m}\u001b[0m\u001b[0;34m\u001b[0m\u001b[0;34m\u001b[0m\u001b[0m\n\u001b[0m",
      "\u001b[0;31mTypeError\u001b[0m: unhashable type: 'set'"
     ]
    }
   ],
   "source": [
    "# Concept of nested list\n",
    "# points to remember\n",
    "# 1) List is not hashable\n",
    "# 2) tuple is hashable\n",
    "# 3) set is hashable\n",
    "# 4) dict(key,value)=> key is hashable\n",
    "# hashable elements can hold on hashable sequences as nested sequences\n",
    "\n",
    "# List in not hashable \n",
    "# Set is hashable\n",
    "# 1) So a set cannot have list as nested sequence\n",
    "# 2) Tuple cannot have list as nested sequence\n",
    "# 3) Dict key cannot have list as nest sequence , but value can have list as nested sequence\n",
    "\n",
    "\n",
    "# l=[10,20,30]\n",
    "# s={40,50,60}\n",
    "# t=(70,80,90)\n",
    "# d={'name':'shyam'}\n",
    "\n",
    "# s={40,50,60,[10,20,30]}\n",
    "# print(s)\n",
    "# Output::TypeError: unhashable type: 'list'\n",
    "\n",
    "# l=[10,20,30,(70,80,90),{'name':'shyam'}]\n",
    "# Output::TypeError: unhashable type: 'list'\n",
    "\n",
    "# s= {40,50,60,(70,80,90)}\n",
    "# print(s)\n",
    "\n",
    "# d= {(10):[10,20]}\n",
    "# s={10,30,[20,40]}\n",
    "l=[10,20,{30,40},(40,50),{\"s\":\"s\"}]\n",
    "# s={10,20,{30,40}}\n",
    "\n"
   ]
  },
  {
   "cell_type": "code",
   "execution_count": null,
   "metadata": {},
   "outputs": [],
   "source": []
  }
 ]
}