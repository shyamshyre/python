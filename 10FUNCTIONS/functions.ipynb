{
 "metadata": {
  "language_info": {
   "codemirror_mode": {
    "name": "ipython",
    "version": 3
   },
   "file_extension": ".py",
   "mimetype": "text/x-python",
   "name": "python",
   "nbconvert_exporter": "python",
   "pygments_lexer": "ipython3",
   "version": "3.8.3-final"
  },
  "orig_nbformat": 2,
  "kernelspec": {
   "name": "python3",
   "display_name": "Python 3.8.3 64-bit",
   "metadata": {
    "interpreter": {
     "hash": "0adcc2737ebf6a4a119f135174df96668767fca1ef1112612db5ecadf2b6d608"
    }
   }
  }
 },
 "nbformat": 4,
 "nbformat_minor": 2,
 "cells": [
  {
   "cell_type": "code",
   "execution_count": 4,
   "metadata": {},
   "outputs": [
    {
     "output_type": "stream",
     "name": "stdout",
     "text": [
      "30\n200\n"
     ]
    }
   ],
   "source": [
    "# funtion : group of statements is called function.\n",
    "# function may return or not return value\n",
    "# default return type value in python in None\n",
    "# functions in python can retuen multiple return values\n",
    "\n",
    "# def <function name> (<arguments>):\n",
    "#     statements\n",
    "#     return <value1>\n",
    "#     return <value2>\n",
    "\n",
    "\n",
    "\n",
    "def calc(a,b):\n",
    "    result_sum = a+b\n",
    "    result_mul = a*b\n",
    "    return result_sum, result_mul\n",
    "\n",
    "\n",
    "a,b=calc(10,20)\n",
    "print(a)\n",
    "print(b)\n",
    "\n"
   ]
  },
  {
   "cell_type": "code",
   "execution_count": 8,
   "metadata": {},
   "outputs": [
    {
     "output_type": "error",
     "ename": "SyntaxError",
     "evalue": "positional argument follows keyword argument (<ipython-input-8-aac49d79d0a0>, line 37)",
     "traceback": [
      "\u001b[0;36m  File \u001b[0;32m\"<ipython-input-8-aac49d79d0a0>\"\u001b[0;36m, line \u001b[0;32m37\u001b[0m\n\u001b[0;31m    print(mul(a=5,6))\u001b[0m\n\u001b[0m                  ^\u001b[0m\n\u001b[0;31mSyntaxError\u001b[0m\u001b[0;31m:\u001b[0m positional argument follows keyword argument\n"
     ]
    }
   ],
   "source": [
    "# Arguments\n",
    "# value we are passing to function are called real arguments.\n",
    "# recieving values are called formal arguments\n",
    "# There are 4 types of formal arguments\n",
    "# 1) positional arguments (calling)\n",
    "# 2) keyword arguments (calling)\n",
    "# 3) default arguments (defining)\n",
    "# 4) len arguments (defining)\n",
    "\n",
    "# 1) postional arguments\n",
    "# We need to enusre that we are passing the information in right way.\n",
    "\n",
    "\n",
    "# def mul(a,b):\n",
    "#     return a*b\n",
    "\n",
    "# print(mul(5,6))\n",
    "\n",
    "\n",
    "# 2) Keyword Arguments\n",
    "# it woudl be exrteme difficult if more number of arguments exist while calling function\n",
    "# To make it easier we are using kwyword arguments.\n",
    "\n",
    "\n",
    "\n",
    "def mul(a,b):\n",
    "    print(a,b)\n",
    "    return a*b\n",
    "\n",
    "# print(mul(b=5,a=6))\n",
    "# Here its not the order but it depends on the keywords\n",
    "# Note: we can use both positional and keyword arguments simultaneously , but the rule is first \n",
    "# positional argument and then keyword argument\n",
    "\n",
    "print(mul(5,6))\n",
    "print(mul(a=5,b=6))\n",
    "print(mul(a=5,6)) #==> though we are passing the a value first but still it doesnt consider as its keyword argument\n",
    "\n",
    "print(mul(5,b=6))\n",
    "\n"
   ]
  },
  {
   "cell_type": "code",
   "execution_count": 16,
   "metadata": {},
   "outputs": [
    {
     "output_type": "error",
     "ename": "SyntaxError",
     "evalue": "non-default argument follows default argument (<ipython-input-16-943dc5bb2582>, line 11)",
     "traceback": [
      "\u001b[0;36m  File \u001b[0;32m\"<ipython-input-16-943dc5bb2582>\"\u001b[0;36m, line \u001b[0;32m11\u001b[0m\n\u001b[0;31m    def wish(guest=\"Hello\" , msg):\u001b[0m\n\u001b[0m             ^\u001b[0m\n\u001b[0;31mSyntaxError\u001b[0m\u001b[0;31m:\u001b[0m non-default argument follows default argument\n"
     ]
    }
   ],
   "source": [
    "# default argument\n",
    "# if we are calling a function without params and still we want to consider them with some default values then its called default function.\n",
    "# Note: default argument should be always followed by non default argument.(first non deault argument then default argument)\n",
    "# if we are passing default argument as 1 param and non default as second then its valid\n",
    "# after default arguments we should not take non default arguments\n",
    "\n",
    "\n",
    "# def wish(guest=\"Hello\" , msg=\"Good Day\"):\n",
    "#     pass\n",
    "# def wish(guest , msg=\"Good Day\"):\n",
    "#     pass\n",
    "# def wish(guest=\"Hello\" , msg): # ==> Ther is error as the default value is coming first\n",
    "#     pass\n",
    "\n",
    "# wish(\"dear\")\n",
    "# wish(\"dear\",\"Good Morning\")\n",
    "\n",
    "# def mul(a=5,b=6):\n",
    "#     print(a*b)\n",
    "\n",
    "\n",
    "\n",
    "# def mul(a=5,b=6):\n",
    "#     pass\n",
    "# def mul(a,b=6):\n",
    "#     pass\n",
    "# def mul(a=5,b):\n",
    "#     pass\n",
    "\n",
    "# mul(10,20)\n",
    "\n",
    "\n",
    "\n",
    "\n",
    "\n",
    "\n",
    "\n"
   ]
  },
  {
   "cell_type": "code",
   "execution_count": 8,
   "metadata": {},
   "outputs": [
    {
     "output_type": "stream",
     "name": "stdout",
     "text": [
      "(0,)\n<class 'tuple'>\n0\n(0, 1)\n<class 'tuple'>\n0\n1\n(0, 1, 2)\n<class 'tuple'>\n0\n1\n2\n(0, 1, 2, 3)\n<class 'tuple'>\n0\n1\n2\n3\n((0, 1, 2, 3), (40, 50, 60))\n<class 'tuple'>\n(0, 1, 2, 3)\n(40, 50, 60)\n([0, 1, 2, 3], (40, 50, 60), {60, 70}, {'uname': 'shyam'})\n<class 'tuple'>\n[0, 1, 2, 3]\n(40, 50, 60)\n{60, 70}\n{'uname': 'shyam'}\n"
     ]
    }
   ],
   "source": [
    "# Variable length Arguments \n",
    "# Here we are not having any specific size , it could be dynamically grown and we can pass from 0 to n number of arguments\n",
    "# Variable length arguments are internally converted to tuple\n",
    "\n",
    "\n",
    "def add(*n):\n",
    "    print(n)\n",
    "    print(type(n))\n",
    "\n",
    "# *n is taking all the arguments and its putting that information inside the tuple\n",
    "# Inside all the elemnts do exist in tule.\n",
    "    for i in n:\n",
    "        print(i)\n",
    "        # Traversing across the tuple to print its corresponding values.\n",
    "\n",
    "add()\n",
    "add(0,1)\n",
    "add(0,1,2)\n",
    "add(0,1,2,3)\n",
    "# passing tuple of tuples \n",
    "add((0,1,2,3),(40,50,60))\n",
    "# passing tuple of lists sets tuple and dict\n",
    "add([0,1,2,3],(40,50,60),{60,70},{\"uname\":\"shyam\"})\n"
   ]
  },
  {
   "cell_type": "code",
   "execution_count": 11,
   "metadata": {},
   "outputs": [
    {
     "output_type": "stream",
     "name": "stdout",
     "text": [
      "10\n(20, 30, 40, 50)\n"
     ]
    },
    {
     "output_type": "error",
     "ename": "TypeError",
     "evalue": "math() missing 1 required positional argument: 'x'",
     "traceback": [
      "\u001b[0;31m---------------------------------------------------------------------------\u001b[0m",
      "\u001b[0;31mTypeError\u001b[0m                                 Traceback (most recent call last)",
      "\u001b[0;32m<ipython-input-11-191a80f82920>\u001b[0m in \u001b[0;36m<module>\u001b[0;34m\u001b[0m\n\u001b[1;32m      8\u001b[0m \u001b[0;31m# 20,30,40,50 is turned to be the second argument\u001b[0m\u001b[0;34m\u001b[0m\u001b[0;34m\u001b[0m\u001b[0;34m\u001b[0m\u001b[0m\n\u001b[1;32m      9\u001b[0m \u001b[0;34m\u001b[0m\u001b[0m\n\u001b[0;32m---> 10\u001b[0;31m \u001b[0mmath\u001b[0m\u001b[0;34m(\u001b[0m\u001b[0;34m)\u001b[0m\u001b[0;34m\u001b[0m\u001b[0;34m\u001b[0m\u001b[0m\n\u001b[0m\u001b[1;32m     11\u001b[0m \u001b[0;34m\u001b[0m\u001b[0m\n\u001b[1;32m     12\u001b[0m \u001b[0;34m\u001b[0m\u001b[0m\n",
      "\u001b[0;31mTypeError\u001b[0m: math() missing 1 required positional argument: 'x'"
     ]
    }
   ],
   "source": [
    "# Combination of poistional and variable length arguments\n",
    "\n",
    "def math (x,*y):\n",
    "        print(x) \n",
    "        print(y)\n",
    "math(10,20,30,40,50)\n",
    "# 10 is turned to be the first argument.\n",
    "# 20,30,40,50 is turned to be the second argument\n",
    "\n",
    "math()\n",
    "# It is must that we need to pass the data to positional argument, its not mandatory to pass to variable length arguments\n",
    "# So the result is TypeError\n",
    "\n",
    "\n",
    "\n"
   ]
  },
  {
   "cell_type": "code",
   "execution_count": 17,
   "metadata": {},
   "outputs": [
    {
     "output_type": "stream",
     "name": "stdout",
     "text": [
      "(10, 0, 10)\n20\n"
     ]
    }
   ],
   "source": [
    "# The above error couold be resolved by passing the data using keywordargument.\n",
    "# Here the x is variable length argument and y need to be keyword argument, so that compiler can identify\n",
    "def math (*x,y):\n",
    "    print(x)\n",
    "    print(y)\n",
    "math(10,0,10,y=20)"
   ]
  },
  {
   "cell_type": "code",
   "execution_count": null,
   "metadata": {},
   "outputs": [],
   "source": [
    "# More than 1 variable length (vargs)are not allowed\n",
    "def math (*x,*y):\n",
    "    print(x)\n",
    "    print(y)\n",
    "math(10,0,10,y=20)"
   ]
  },
  {
   "cell_type": "code",
   "execution_count": 18,
   "metadata": {},
   "outputs": [
    {
     "output_type": "error",
     "ename": "SyntaxError",
     "evalue": "positional argument follows keyword argument (<ipython-input-18-ad9eedd960ed>, line 5)",
     "traceback": [
      "\u001b[0;36m  File \u001b[0;32m\"<ipython-input-18-ad9eedd960ed>\"\u001b[0;36m, line \u001b[0;32m5\u001b[0m\n\u001b[0;31m    math(x=10,0,10,y=20)\u001b[0m\n\u001b[0m              ^\u001b[0m\n\u001b[0;31mSyntaxError\u001b[0m\u001b[0;31m:\u001b[0m positional argument follows keyword argument\n"
     ]
    }
   ],
   "source": [
    "# difference *args and **kwargs\n",
    "# You cannot pass keyword values to the variable length arguments , if we wan to pass variable keyword length arguments then we need to use **kw(kw is not mandatory u can use anything of our choice)\n",
    "def math (*x):\n",
    "    print(x)\n",
    "math(x=10,0,10,y=20)\n"
   ]
  },
  {
   "cell_type": "code",
   "execution_count": 22,
   "metadata": {},
   "outputs": [
    {
     "output_type": "stream",
     "name": "stdout",
     "text": [
      "{}\n{'x': 10, 'y': 20, 'z': 30}\n"
     ]
    }
   ],
   "source": [
    "# **kw converts the kw into key,value pair its not but dict inside\n",
    "def add (**kw):\n",
    "    print(kw)\n",
    "\n",
    "add()  # ==> length is 0 so empty dict. witll be printed\n",
    "add(x=10,y=20,z=30)"
   ]
  },
  {
   "cell_type": "code",
   "execution_count": 27,
   "metadata": {},
   "outputs": [
    {
     "output_type": "stream",
     "name": "stdout",
     "text": [
      "(10, 20, 30)\n{'name': 'shyam', 'age': 35}\n"
     ]
    }
   ],
   "source": [
    "\n",
    "def add (*varg,**kwarg):\n",
    "    print(varg)\n",
    "    print(kwarg)\n",
    "\n",
    "add(10,20,30,name=\"shyam\",age=35)"
   ]
  },
  {
   "cell_type": "code",
   "execution_count": 28,
   "metadata": {},
   "outputs": [
    {
     "output_type": "error",
     "ename": "SyntaxError",
     "evalue": "invalid syntax (<ipython-input-28-932c848d49bb>, line 1)",
     "traceback": [
      "\u001b[0;36m  File \u001b[0;32m\"<ipython-input-28-932c848d49bb>\"\u001b[0;36m, line \u001b[0;32m1\u001b[0m\n\u001b[0;31m    def add (**x,*y):\u001b[0m\n\u001b[0m                 ^\u001b[0m\n\u001b[0;31mSyntaxError\u001b[0m\u001b[0;31m:\u001b[0m invalid syntax\n"
     ]
    }
   ],
   "source": [
    "# Note: We cannot call positional araguments after variable length arguments\n",
    "# Python doesnt accept variable keyword arguments followed by variable arguments\n",
    "def add (**x,*y):\n",
    "    print(varg)\n",
    "    print(kwarg)\n",
    "\n",
    "add(name=\"shyam\",age=35,10,20)"
   ]
  },
  {
   "cell_type": "code",
   "execution_count": 37,
   "metadata": {},
   "outputs": [
    {
     "output_type": "stream",
     "name": "stdout",
     "text": [
      "10 20 30 40\n10 20 60 70\n10 20 60 70\n10 20 30 70\n"
     ]
    }
   ],
   "source": [
    "def assignment(a,b,c=30,d=40):\n",
    "    print(a,b,c,d)\n",
    "\n",
    "assignment(10,20)\n",
    "assignment(10,20,60,70)\n",
    "assignment(10,20,c=60,d=70)\n",
    "assignment(a=10,b=20,d=70)"
   ]
  },
  {
   "cell_type": "code",
   "execution_count": 44,
   "metadata": {},
   "outputs": [
    {
     "output_type": "stream",
     "name": "stdout",
     "text": [
      "4 5 11 21\n"
     ]
    }
   ],
   "source": [
    "def assignment(a,b,c=30,d=40):\n",
    "    print(a,b,c,d)\n",
    "\n",
    "# assignment()\n",
    "# Output::TypeError: assignment() missing 2 required positional arguments: 'a' and 'b'\n",
    "\n",
    "\n",
    "# assignment(c=10,d=30,10,20)\n",
    "# SyntaxError: positional argument follows keyword argument\n",
    "\n",
    "# assignment(4,5,b=3)\n",
    "\n",
    "# TypeError: assignment() got multiple values for argument 'b'\n",
    "\n",
    "# assignment(4,5,c=11,e=21)\n",
    "# Error"
   ]
  },
  {
   "cell_type": "code",
   "execution_count": 49,
   "metadata": {},
   "outputs": [
    {
     "output_type": "stream",
     "name": "stdout",
     "text": [
      "Addition 10 21\nMultiplication 10\n"
     ]
    }
   ],
   "source": [
    "# Types of Variables in functional prgramming\n",
    "# 1)Global\n",
    "# 2) local\n",
    "\n",
    "x=10\n",
    "def add():\n",
    "    y=21\n",
    "    print(\"Addition\",x,y)\n",
    "def mul():\n",
    "    print(\"Multiplication\",x)\n",
    "add()\n",
    "mul()\n",
    "\n"
   ]
  },
  {
   "cell_type": "code",
   "execution_count": 51,
   "metadata": {},
   "outputs": [
    {
     "output_type": "stream",
     "name": "stdout",
     "text": [
      "4369362176\n20\n10\n4369361856\n"
     ]
    }
   ],
   "source": [
    "# using the same variable globally and locally\n",
    "a=10\n",
    "def f1():\n",
    "    a=20\n",
    "    print(id(a))\n",
    "    print(a)\n",
    "def f2():\n",
    "    print(a)\n",
    "    print(id(a))\n",
    "f1()\n",
    "f2()\n",
    "\n"
   ]
  },
  {
   "cell_type": "code",
   "execution_count": 56,
   "metadata": {},
   "outputs": [
    {
     "output_type": "stream",
     "name": "stdout",
     "text": [
      "4369362176\n20\n20\n4369362176\n"
     ]
    }
   ],
   "source": [
    "# using the same variable globally and locally\n",
    "a=10\n",
    "def f1():\n",
    "    global a\n",
    "    # Now we are refeerring to gloabl varibale but not the local variable, if we perform change the global variable gets impacted\n",
    "    a=20\n",
    "    print(id(a))\n",
    "    print(a)\n",
    "def f2():\n",
    "    print(a)\n",
    "    print(id(a))\n",
    "f1()\n",
    "f2()\n",
    "\n"
   ]
  },
  {
   "cell_type": "code",
   "execution_count": 60,
   "metadata": {},
   "outputs": [
    {
     "output_type": "stream",
     "name": "stdout",
     "text": [
      "20\n"
     ]
    },
    {
     "output_type": "error",
     "ename": "NameError",
     "evalue": "name 'b' is not defined",
     "traceback": [
      "\u001b[0;31m---------------------------------------------------------------------------\u001b[0m",
      "\u001b[0;31mNameError\u001b[0m                                 Traceback (most recent call last)",
      "\u001b[0;32m<ipython-input-60-3b46285b3a74>\u001b[0m in \u001b[0;36m<module>\u001b[0;34m\u001b[0m\n\u001b[1;32m      7\u001b[0m \u001b[0;34m\u001b[0m\u001b[0m\n\u001b[1;32m      8\u001b[0m \u001b[0mf1\u001b[0m\u001b[0;34m(\u001b[0m\u001b[0;34m)\u001b[0m\u001b[0;34m\u001b[0m\u001b[0;34m\u001b[0m\u001b[0m\n\u001b[0;32m----> 9\u001b[0;31m \u001b[0mf2\u001b[0m\u001b[0;34m(\u001b[0m\u001b[0;34m)\u001b[0m\u001b[0;34m\u001b[0m\u001b[0;34m\u001b[0m\u001b[0m\n\u001b[0m",
      "\u001b[0;32m<ipython-input-60-3b46285b3a74>\u001b[0m in \u001b[0;36mf2\u001b[0;34m()\u001b[0m\n\u001b[1;32m      3\u001b[0m     \u001b[0mprint\u001b[0m\u001b[0;34m(\u001b[0m\u001b[0mb\u001b[0m\u001b[0;34m)\u001b[0m\u001b[0;34m\u001b[0m\u001b[0;34m\u001b[0m\u001b[0m\n\u001b[1;32m      4\u001b[0m \u001b[0;32mdef\u001b[0m \u001b[0mf2\u001b[0m\u001b[0;34m(\u001b[0m\u001b[0;34m)\u001b[0m\u001b[0;34m:\u001b[0m\u001b[0;34m\u001b[0m\u001b[0;34m\u001b[0m\u001b[0m\n\u001b[0;32m----> 5\u001b[0;31m     \u001b[0mprint\u001b[0m\u001b[0;34m(\u001b[0m\u001b[0mb\u001b[0m\u001b[0;34m)\u001b[0m\u001b[0;34m\u001b[0m\u001b[0;34m\u001b[0m\u001b[0m\n\u001b[0m\u001b[1;32m      6\u001b[0m     \u001b[0mprint\u001b[0m\u001b[0;34m(\u001b[0m\u001b[0mid\u001b[0m\u001b[0;34m(\u001b[0m\u001b[0mb\u001b[0m\u001b[0;34m)\u001b[0m\u001b[0;34m)\u001b[0m\u001b[0;34m\u001b[0m\u001b[0;34m\u001b[0m\u001b[0m\n\u001b[1;32m      7\u001b[0m \u001b[0;34m\u001b[0m\u001b[0m\n",
      "\u001b[0;31mNameError\u001b[0m: name 'b' is not defined"
     ]
    }
   ],
   "source": [
    "def f1():\n",
    "    b=20\n",
    "    print(b)\n",
    "def f2():\n",
    "    print(b)\n",
    "    print(id(b))\n",
    "\n",
    "f1()\n",
    "f2()\n",
    "\n",
    "# WE cannot call variable defined in the local block."
   ]
  },
  {
   "cell_type": "code",
   "execution_count": 62,
   "metadata": {},
   "outputs": [
    {
     "output_type": "stream",
     "name": "stdout",
     "text": [
      "20\n4369362176\n20\n4369362176\n"
     ]
    }
   ],
   "source": [
    "def f1():\n",
    "    global b\n",
    "    b=20\n",
    "    print(b)\n",
    "    print(id(b))\n",
    "def f2():\n",
    "    print(b)\n",
    "    print(id(b))\n",
    "\n",
    "f1()\n",
    "f2()\n",
    "# By using global we made the variable defined local as global "
   ]
  },
  {
   "cell_type": "code",
   "execution_count": 63,
   "metadata": {},
   "outputs": [
    {
     "output_type": "error",
     "ename": "SyntaxError",
     "evalue": "invalid syntax (<ipython-input-63-98828e4b7963>, line 2)",
     "traceback": [
      "\u001b[0;36m  File \u001b[0;32m\"<ipython-input-63-98828e4b7963>\"\u001b[0;36m, line \u001b[0;32m2\u001b[0m\n\u001b[0;31m    global b = 20\u001b[0m\n\u001b[0m             ^\u001b[0m\n\u001b[0;31mSyntaxError\u001b[0m\u001b[0;31m:\u001b[0m invalid syntax\n"
     ]
    }
   ],
   "source": [
    "def f1():\n",
    "    global b = 20\n",
    "    print(b)\n",
    "    print(id(b))\n",
    "def f2():\n",
    "    print(b)\n",
    "    print(id(b))\n",
    "\n",
    "f1()\n",
    "f2()\n",
    "\n",
    "Note::  We cannot define global <variable> = value"
   ]
  },
  {
   "cell_type": "code",
   "execution_count": 64,
   "metadata": {},
   "outputs": [
    {
     "output_type": "error",
     "ename": "SyntaxError",
     "evalue": "name 'a' is used prior to global declaration (<ipython-input-64-ea2e37d2c48e>, line 4)",
     "traceback": [
      "\u001b[0;36m  File \u001b[0;32m\"<ipython-input-64-ea2e37d2c48e>\"\u001b[0;36m, line \u001b[0;32m4\u001b[0m\n\u001b[0;31m    global a\u001b[0m\n\u001b[0m    ^\u001b[0m\n\u001b[0;31mSyntaxError\u001b[0m\u001b[0;31m:\u001b[0m name 'a' is used prior to global declaration\n"
     ]
    }
   ],
   "source": [
    "a= 777\n",
    "def add():\n",
    "    print(a)\n",
    "    # <prior to global declaration , we shoul not use that variable>\n",
    "    global a\n",
    "    a=999\n",
    "print(a)"
   ]
  },
  {
   "cell_type": "code",
   "execution_count": 67,
   "metadata": {},
   "outputs": [
    {
     "output_type": "stream",
     "name": "stdout",
     "text": [
      "777\n999\n"
     ]
    }
   ],
   "source": [
    "a= 777\n",
    "def add():\n",
    "    # Imortant Note:: <prior to global declaration , we shoul not use that variable>\n",
    "    global a\n",
    "\n",
    "    print(a)\n",
    "    a=999\n",
    "    print(a)\n",
    "add()"
   ]
  },
  {
   "cell_type": "code",
   "execution_count": 69,
   "metadata": {},
   "outputs": [
    {
     "output_type": "stream",
     "name": "stdout",
     "text": [
      "999\n"
     ]
    }
   ],
   "source": [
    "# Global vs Local Priority\n",
    "# Always the local variable gets the priority\n",
    "a= 777\n",
    "def add():\n",
    "    a= 999\n",
    "    print(a)\n",
    "add()"
   ]
  },
  {
   "cell_type": "code",
   "execution_count": 79,
   "metadata": {},
   "outputs": [
    {
     "output_type": "stream",
     "name": "stdout",
     "text": [
      "10\n10\n20\n"
     ]
    }
   ],
   "source": [
    "# The above problem can be solved by using the globals\n",
    "# this will inturn results us a globals dictionary object with key,value pairs\n",
    "\n",
    "a=10\n",
    "def test():\n",
    "    print(globals().get('a'))\n",
    "    print(globals()['a'])\n",
    "    a=20\n",
    "    print(a)\n",
    "test()\n"
   ]
  },
  {
   "cell_type": "code",
   "execution_count": 98,
   "metadata": {},
   "outputs": [
    {
     "output_type": "stream",
     "name": "stdout",
     "text": [
      "3\n2\n1\n0\nFactorial of 3 is  6\n"
     ]
    }
   ],
   "source": [
    "# WAP to print factorial of given number\n",
    "\n",
    "\n",
    "\n",
    "def factorial(n):\n",
    "    print(n)\n",
    "    if n==0:\n",
    "       result=1\n",
    "    else:\n",
    "        result= n*factorial(n-1)\n",
    "    return result\n",
    "\n",
    "print(\"Factorial of 3 is \",factorial(3)) "
   ]
  },
  {
   "cell_type": "code",
   "execution_count": 180,
   "metadata": {
    "tags": []
   },
   "outputs": [
    {
     "output_type": "stream",
     "name": "stdout",
     "text": [
      "5\n4\n3\n2\n1\n0\n1\n2\n6\n24\n120\n120\n"
     ]
    }
   ],
   "source": [
    "# Wap to recursively find the addition of 10\n",
    "def add(n):\n",
    "    print(n)\n",
    "    if n==0:\n",
    "        result=1\n",
    "    else:\n",
    "        result = n*add(n-1)\n",
    "        print(result)\n",
    "    return result\n",
    "print(add(5))"
   ]
  },
  {
   "cell_type": "code",
   "execution_count": 214,
   "metadata": {},
   "outputs": [
    {
     "output_type": "stream",
     "name": "stdout",
     "text": [
      "Factorial of  {} 171045428520945427395334512333685538501730867645587027863457785106143265762122133748202564970217033633961396458198940614346095679143968644855898606055517692779734980565232123347416182712866361385150547514641017012674707206719034761295921631745286420285007532597764647868633150729428700129041708416757273511391298741651537870238937294889890456417432692256410115838388961831823112117590052826625253386903699649470959405699559699951818956230158538377713922243410986392431970166436072344010680549260104932135408922316897341700620748724538872417768905101805721741412193112086612484948199612255137877823601781925403661734707370484753405796788065948056943423414089035617341497017972853976472133072210819607194859700113887554265601544489957149618789825290315330808958174439829790252913844531101158333589162945561669519133473540217538622385761211567235318056237365848977018659581463531231565979158384797643832427569713834692161617244258429299272565739758269320340541187790576480079460570695420401053956472740820928067495323442061936637239653399243936750016869826138816957452557342520889912754868849051888697321876622359571825130971238131269274647264960903378339625655728976668150571800048007078085840337343757702710900208030386859897962638782301976052537769355779160761377157183838570099038778451197889244363678725845546664467160864047281361326249933579689535187748421254668079127784954414971416081815896418884818026731757509148635511735508611532619769146819990774626922847920902214581707577939777186281227676759356007162459475608021627960697762006295153937517241007269739538716783653963922595254518300265631562886991414633836643221510845476977010600720998920950609577073849544873606495484082196959870070516038971645904618592082862023428118506993817795254720667554200893299043238733748857008920744300679620202116064969914273857169392278189192299710126830785113025457072506176976804501620037802828149354509246840282543792602309418736785910518287060207042863249368679538184187758869352845315051804695694841408176948483957557424792542306671155849096011780544709934330496417545428002962014158279069441310113715874076532843592902491364094390727331918204558919306760302210326780455560680216594101880128904897026006072333196233212918461231787374051553255994199642166286806657014604292936119152923892101363648616116630041353849877143818493137565956542218660761930412718020699615945429136600436509857942540096888150265827915578054852138364395678818890487807788199480798184824905327885099072377073667645227312085908107357430702247552616540361466897436859173903963372440000266293605217023440077733221715966710355941029453462438939500909200702261746213276672513940521529576243679682797176374512941552341157973155539394077962295186301250075830400513089036719693204236854280444580384572030305007742320839770371612436251024690186524284530927688610260498024350050430294194067494092673130204025301862268131444198741492686142459373052321601867805168966630911793770165884305507846697526832040584986380185607573044296507431434711887232853338542994053851851258587921232935520227558799853401595630866242118332274438792535585909793061977794374767477820480060034196556421024613541218434381892017174190074637768608808719764235389395222868914364503970536272195204297599972995432097519029772415136794472373608509425975060089599514965774819532295464805601380040175708468900859329053226667715490258362622263862052764210841502482707937968528655863309767003381027906729383286590713511382705458610919048880758154195208319771528560633937255817409806166812178837599956716400516381333137876684974629576792934031610900112303498570961037745128017829738577124613149715992873362171870137184189817179509030412719722450355525627064591693783525716610498340651536955771409952219459152515651064288672260608717193859569955096847218262643565908255014895113911722088763491950168776855499346575623005184477207223167143722527558575511063709767763449435281577889777464476086172786035009160736384526640261082486208153737272646087078372006717276635851773838262036969405649217306650775180590494908015191283503027304383937102855020203407235245300960297650938004273313986448314512543233787077407923085201085584161043647969514652060650728086769030439726454606617674620662431540223422108079257838717297233514787497317701633567820068275396287029708398073173016189596360372403135455832521587703736932770283360959554984841436821369573440773036500598512201087851896179546191398545599488189239566017215584779578204992585008420078788800042422106067706423848652108687561735653649833287521621483289793332898531896974978670690095049060058780592018428817526209253714525451627433002806503275416381110289075551981076286569351167789831537477675293821876372300291018547883489777240165678295900502656880407560358015125238836627103473602404529426108557375009059188804423537085451487995412579776367274127479172701964450706904923172792068233767508813326152999339181543215749443843506811249357237107495983586894477024452564506139416517572274283995592500476041634068874853900512459085577812080413850488442018667341613884461232512563280084356814706179759365700298395998768066200629711686701197503710905212427996220611013876433506238636177415484263723531856254181939203286828235187166763916881463962750450923973684182521568892388387436234729593215321262871514475432088338959934340521228137870728782810551084408142170958541223684139197491055699837318665935871851409675262776180531333884238499291282894264057881974316929954359716336100836401567531061799872990560767908520252965940380915480948042503694959487814375602292001526012313751440407073584514476566783616497538899475571863632188196530183790566210366857840334927017029992727868400885152261635888789852983621627433996482446420302602344740415657437538840605188537489001049374714646818911502791173173547962174421381464187171054081142798044550778428256740757337362828128293132038316980493570755955633767110811621836011291573684700456543016713918971085259504296590052130928416164686172004704848523362691123878912303855450666530782718447357056044628622725619895376573693853745383719272973580708348047427108661250240261056897513898503513011553713360751376188944220038101131135913918756387355650623537997719810941672810266589092623705294712124576424104779631667575515135054012021159210026201476463466544452871502835326801936955404088103569281465703683812611701833481648461982907706474950727491184397707310059590959666803669726224093125186062474450175609873861946120581810346101980550720288605894839902660443175585730822568521344938640773422720225594592887342534284964750942432036189822074509595127029153745204721980570622325377438218747045864412210514977911309677595797372845420642300751107065344101165267718338601969441824500316210827189879441761548494184787922123299734266627403335182059022204942390728639989524319225511407290920325603764976444531890072264599194916540340035837524211294061601614849653817988542448460040101293622853372916941920709670177087010331285880470185853551942885215158746188587471136420574354920041498583280964557913759771756333155539297877289526138556118734743113395805377309250745760096353290504236094028712154639768875124736762813788572239044616687276997465381241825908779157851666990133728906692236201505759972925556995144784551921159164695643370512706864439656947574100030996187707407546417198640891872519521308032272875561792361922846943219252847668618905195166572326537354408947459304047708503575086539651709848187243750588852607225753364131557348703530918009435379731595959215079294796891499651373625748532636889834117473841889428272533902193750040483374054818422152655837580846302350987253442263689496616876831511089058635763891007047922680594296977873977797112513219408863980766820202812921241180471159624712770090250531123736543759508664859064871615848130313120136883136894719380589071240093554494761298064691147826002942727023000929679044161604321737582250113503113041560962494357562293630315160146053125388377520661523575418637176149326552030969262247502633971534786591428758635149767827006634003349420165570629285655265764876609475733865603256066653385528211032660017736297208176533761802338902423088469325985386877354044442823019541057518686949413454866782521738227635417496326993734589248226602657634023469167783312254537879167824537590744303534080000000000000000000000000000000000000000000000000000000000000000000000000000000000000000000000000000000000000000000000000000000000000000000000000000000000000000000000000000000000000000000000000000000000000000000000000000000000000000000000000000000000000000000000000000000000000000000000000000000000000000000000000000000000000000000000000000000000000000000000000000000000000000000000000000000000000000000000000000000000000000000000000000000000000000000000000000000000000000000000000000000000000000000000000000000000000000000000000000000000000000000000000000000000000000000000000000000000000000000000000000000000000000000000000000000000000000000000000000000000000000000000000000000000000000000000000000000000000000000000000000000000000000\n"
     ]
    }
   ],
   "source": [
    "# REcursion depth\n",
    "# 995 times is the recursion depth\n",
    "# This means 995 times the maximum times we can call recursive function.\n",
    "# Max limit 2958 then if we want call factoriral of 2958 then it need to execute 2959 times which crosses the max recurssion depth so recurssion error occur\n",
    "\n",
    "\n",
    "def factorial(n):\n",
    "    if n==0:\n",
    "       result=1\n",
    "    else:\n",
    "        result = n*factorial(n-1)\n",
    "    return result\n",
    "\n",
    "\n",
    "print(\"Factorial of  {}\",factorial(2957)) "
   ]
  },
  {
   "cell_type": "code",
   "execution_count": 225,
   "metadata": {},
   "outputs": [
    {
     "output_type": "stream",
     "name": "stdout",
     "text": [
      "16\n The square of 0 0\n The square of 1 1\n The square of 2 4\n The square of 3 9\n The square of 4 16\n The square of 5 25\n The square of 6 36\n The square of 7 49\n The square of 8 64\n The square of 9 81\n The square of 10 100\n"
     ]
    }
   ],
   "source": [
    "# Anonymous or lambda functions\n",
    "# A function without name is called anonymous function.\n",
    "# lambda functions are used for instance usage only.\n",
    "# Syntax lambda <params> : expression\n",
    "\n",
    "\n",
    "# Regular/Normal function\n",
    "\n",
    "# def square(n) :\n",
    "#     return n*n\n",
    "# square(4)\n",
    "\n",
    "result = lambda n:n*n\n",
    "print(result(4))\n",
    "\n",
    "# result= lambda n,n1:n*n1\n",
    "# print(result(2,4))\n",
    "\n",
    "\n",
    "for i in range(0,11):\n",
    "    print(\" The square of {} {}\".format(i,result(i) ))\n",
    "\n"
   ]
  },
  {
   "cell_type": "code",
   "execution_count": 226,
   "metadata": {},
   "outputs": [
    {
     "output_type": "stream",
     "name": "stdout",
     "text": [
      "30\n"
     ]
    }
   ],
   "source": [
    "# lambda function to add two numbers\n",
    "\n",
    "result= lambda a,b: a+b\n",
    "print(result(10,20))"
   ]
  },
  {
   "cell_type": "code",
   "execution_count": 228,
   "metadata": {},
   "outputs": [
    {
     "output_type": "stream",
     "name": "stdout",
     "text": [
      "20\n"
     ]
    }
   ],
   "source": [
    "# WAP to print biggest of 2 numbers using lamda\n",
    "largest= lambda a,b: a if a>b else b\n",
    "print(largest(10,20))"
   ]
  },
  {
   "cell_type": "code",
   "execution_count": 231,
   "metadata": {},
   "outputs": [
    {
     "output_type": "stream",
     "name": "stdout",
     "text": [
      "30\n"
     ]
    }
   ],
   "source": [
    "# WAP to print largest of 3 numbers using lamda\n",
    "\n",
    "largest = lambda a,b,c : a if a>b and a>c else b if b>c else c\n",
    "print(largest(10,20,30))"
   ]
  },
  {
   "cell_type": "code",
   "execution_count": 236,
   "metadata": {},
   "outputs": [
    {
     "output_type": "stream",
     "name": "stdout",
     "text": [
      "[[2], [4], [6], [8], [10]]\n"
     ]
    }
   ],
   "source": [
    "# WAP to print the\n",
    "# Filtering the data\n",
    "# Syntax:: filter(function,<sequence>)\n",
    "# for every element of the sequence the fucnton would be applied and if the result of the fucntion turns true then it wouold be added to the result.\n",
    "result=[]\n",
    "l=[1,2,3,4,5,6,7,8,9,10]\n",
    "def isEven(n):\n",
    "    if n%2==0:\n",
    "        return True\n",
    "    else:\n",
    "        return False\n",
    "\n",
    "for i in l:\n",
    "    if isEven(i)== True:\n",
    "        result.append([i])\n",
    "print(result)\n",
    "        \n",
    "\n",
    "\n",
    "\n",
    "\n",
    "# filter()"
   ]
  },
  {
   "cell_type": "code",
   "execution_count": 239,
   "metadata": {},
   "outputs": [
    {
     "output_type": "stream",
     "name": "stdout",
     "text": [
      "<filter object at 0x7fc9202c19d0>\n"
     ]
    }
   ],
   "source": [
    "\n",
    "l=[1,2,3,4,5,6,7,8,9,10]\n",
    "\n",
    "def isEven(n):\n",
    "    if n%2==0:\n",
    "        return True\n",
    "    else:\n",
    "        return False\n",
    "result=filter(isEven,l)\n",
    "print(result)\n",
    "# Now the result is filter object, as its the return type of filter() method.\n"
   ]
  },
  {
   "cell_type": "code",
   "execution_count": 240,
   "metadata": {},
   "outputs": [
    {
     "output_type": "stream",
     "name": "stdout",
     "text": [
      "[2, 4, 6, 8, 10]\n"
     ]
    }
   ],
   "source": [
    "\n",
    "# Resolving the filter object issue \n",
    "# just cast the result with list\n",
    "l=[1,2,3,4,5,6,7,8,9,10]\n",
    "\n",
    "def isEven(n):\n",
    "    if n%2==0:\n",
    "        return True\n",
    "    else:\n",
    "        return False\n",
    "result=list(filter(isEven,l))\n",
    "print(result)"
   ]
  },
  {
   "cell_type": "code",
   "execution_count": 248,
   "metadata": {},
   "outputs": [
    {
     "output_type": "stream",
     "name": "stdout",
     "text": [
      "[2, 4, 6, 8, 10]\n"
     ]
    }
   ],
   "source": [
    "# Same function using Lambda\n",
    "l=[1,2,3,4,5,6,7,8,9,10]\n",
    "result=list(filter(lambda n:n%2==0,l))\n",
    "print(result)"
   ]
  },
  {
   "cell_type": "code",
   "execution_count": 250,
   "metadata": {},
   "outputs": [
    {
     "output_type": "stream",
     "name": "stdout",
     "text": [
      "[1, 3, 5, 7, 9]\n"
     ]
    }
   ],
   "source": [
    "l=[1,2,3,4,5,6,7,8,9,10]\n",
    "res=(list(filter(lambda n:n%2!=0,l)))\n",
    "print(res)\n"
   ]
  },
  {
   "cell_type": "code",
   "execution_count": 255,
   "metadata": {},
   "outputs": [
    {
     "output_type": "stream",
     "name": "stdout",
     "text": [
      "['India', 'Italia', 'Indonesia']\n"
     ]
    }
   ],
   "source": [
    "# Wap to filter all countries starting with i\n",
    "l=[\"India\",\"Europe\",\"Italia\",\"Indonesia\"]\n",
    "# res=(list(filter(lambda n: n[0]==\"I\",l)))\n",
    "res=(list(filter(lambda n:n.startswith(\"I\"),l)))\n",
    "print(res)"
   ]
  },
  {
   "cell_type": "code",
   "execution_count": 256,
   "metadata": {},
   "outputs": [
    {
     "output_type": "stream",
     "name": "stdout",
     "text": [
      "['India']\n"
     ]
    }
   ],
   "source": [
    "# Wap to filter all 5 characters words\n",
    "l=[\"India\",\"Europe\",\"Italia\",\"Indonesia\"]\n",
    "res=(list(filter(lambda n:len(n)==5,l)))\n",
    "print(res)"
   ]
  },
  {
   "cell_type": "code",
   "execution_count": 257,
   "metadata": {},
   "outputs": [
    {
     "output_type": "stream",
     "name": "stdout",
     "text": [
      "['India']\n"
     ]
    }
   ],
   "source": [
    "# Wap to filter all 5 characters words\n",
    "l=[\"India\",\"Europe\",\"Italia\",\"Indonesia\"]\n",
    "res=(list(filter(lambda n:len(n)%5==0,l)))\n",
    "print(res)"
   ]
  },
  {
   "cell_type": "code",
   "execution_count": 1,
   "metadata": {},
   "outputs": [
    {
     "output_type": "stream",
     "name": "stdout",
     "text": [
      "10 20 (40,)\n"
     ]
    }
   ],
   "source": [
    "def add(a,b=10,*c):\n",
    "    print(a,b,c)\n",
    "\n",
    "add(10,20,40)"
   ]
  },
  {
   "cell_type": "code",
   "execution_count": 9,
   "metadata": {},
   "outputs": [
    {
     "output_type": "error",
     "ename": "SyntaxError",
     "evalue": "non-default argument follows default argument (<ipython-input-9-0a81465d7c79>, line 1)",
     "traceback": [
      "\u001b[0;36m  File \u001b[0;32m\"<ipython-input-9-0a81465d7c79>\"\u001b[0;36m, line \u001b[0;32m1\u001b[0m\n\u001b[0;31m    def add(c=10,a):\u001b[0m\n\u001b[0m            ^\u001b[0m\n\u001b[0;31mSyntaxError\u001b[0m\u001b[0;31m:\u001b[0m non-default argument follows default argument\n"
     ]
    }
   ],
   "source": [
    "def add(c=10,a):\n",
    "    print(a,c)\n",
    "\n",
    "add(10,30)"
   ]
  },
  {
   "cell_type": "code",
   "execution_count": 17,
   "metadata": {},
   "outputs": [
    {
     "output_type": "stream",
     "name": "stdout",
     "text": [
      "[1, 4, 9, 16, 25, 36, 49, 64, 81]\n"
     ]
    }
   ],
   "source": [
    "# # map() This function returns the values on the input upon peforming some operations\n",
    "# if we want to perform some operation on the every element with in the sequenece then we need to go with map\n",
    "# the result is map object , cast it to your convenience\n",
    "\n",
    "l=[1,2,3,4,5,6,7,8,9]\n",
    "def square(n):\n",
    "    return n*n\n",
    "\n",
    "result= list(map(square,l))\n",
    "print(result)\n",
    "\n"
   ]
  },
  {
   "cell_type": "code",
   "execution_count": 18,
   "metadata": {},
   "outputs": [
    {
     "output_type": "stream",
     "name": "stdout",
     "text": [
      "[1, 4, 9, 16, 25, 36, 49, 64, 81]\n"
     ]
    }
   ],
   "source": [
    "l=[1,2,3,4,5,6,7,8,9]\n",
    "result= list(map(lambda l:l*l ,l))\n",
    "print(result)\n"
   ]
  },
  {
   "cell_type": "code",
   "execution_count": 21,
   "metadata": {},
   "outputs": [
    {
     "output_type": "stream",
     "name": "stdout",
     "text": [
      "[9, 16, 21, 24, 25, 24, 21, 16, 9]\n"
     ]
    }
   ],
   "source": [
    "# WAp to print square the numbers in 2 lists\n",
    "# Instead of one sequence we are taking 2 sequences and multiplying the elements from one sequence to another\n",
    "l1=[1,2,3,4,5,6,7,8,9]\n",
    "l2=[9,8,7,6,5,4,3,2,1]\n",
    "result= list(map(lambda x,y:x*y,l1,l2))\n",
    "print(result)\n"
   ]
  },
  {
   "cell_type": "code",
   "execution_count": 22,
   "metadata": {},
   "outputs": [
    {
     "output_type": "stream",
     "name": "stdout",
     "text": [
      "[29, 28, 27, 26, 25, 24, 23, 22, 21]\n"
     ]
    }
   ],
   "source": [
    "l1=[1,2,3,4,5,6,7,8,9]\n",
    "l2=[9,8,7,6,5,4,3,2,1]\n",
    "l3=[19,18,17,16,15,14,13,12,11]\n",
    "result= list(map(lambda x,y,z:x+y+z,l1,l2,l3))\n",
    "print(result)"
   ]
  },
  {
   "cell_type": "code",
   "execution_count": 27,
   "metadata": {},
   "outputs": [
    {
     "output_type": "stream",
     "name": "stdout",
     "text": [
      "[('W', 1), ('e', 1), ('l', 1), ('c', 1), ('o', 1), ('m', 1), ('e', 1), (' ', 1), ('t', 1), ('o', 1), (' ', 1), ('i', 1), ('n', 1), ('d', 1), ('i', 1), ('a', 1)]\n"
     ]
    }
   ],
   "source": [
    "s=\"Welcome to india\"\n",
    "\n",
    "result=list(map(lambda e:(e,1),s))\n",
    "print(result)"
   ]
  },
  {
   "cell_type": "code",
   "execution_count": 26,
   "metadata": {},
   "outputs": [
    {
     "output_type": "stream",
     "name": "stdout",
     "text": [
      "45\n"
     ]
    }
   ],
   "source": [
    "# Reduce function will result the single value after performing operation over sequence in pair combination\n",
    "# reduce() is not the python function\n",
    "from functools import reduce\n",
    "l1=[1,2,3,4,5,6,7,8,9]\n",
    "result=reduce(lambda x,y:x+y,l1)\n",
    "print(result)\n"
   ]
  },
  {
   "cell_type": "code",
   "execution_count": 57,
   "metadata": {},
   "outputs": [
    {
     "output_type": "stream",
     "name": "stdout",
     "text": [
      "3\n"
     ]
    }
   ],
   "source": [
    "from functools import reduce\n",
    "\n",
    "sum=0\n",
    "result = reduce(lambda x,y:x+y,range(3))\n",
    "print(result)\n",
    "\n",
    "\n",
    "\n"
   ]
  },
  {
   "cell_type": "code",
   "execution_count": 62,
   "metadata": {},
   "outputs": [
    {
     "output_type": "error",
     "ename": "SyntaxError",
     "evalue": "invalid syntax (<ipython-input-62-26eb72f564d6>, line 6)",
     "traceback": [
      "\u001b[0;36m  File \u001b[0;32m\"<ipython-input-62-26eb72f564d6>\"\u001b[0;36m, line \u001b[0;32m6\u001b[0m\n\u001b[0;31m    reduce(p1,p2:count(p1[],sum(p2)),result)\u001b[0m\n\u001b[0m                ^\u001b[0m\n\u001b[0;31mSyntaxError\u001b[0m\u001b[0;31m:\u001b[0m invalid syntax\n"
     ]
    }
   ],
   "source": [
    "s=\"Welcome to india\"\n",
    "\n",
    "result=list(map(lambda e:(e,1),s))\n",
    "print(result)\n",
    "\n",
    "reduce(p1,p2:count(p1[],sum(p2)),result)\n"
   ]
  },
  {
   "cell_type": "code",
   "execution_count": 64,
   "metadata": {},
   "outputs": [
    {
     "output_type": "stream",
     "name": "stdout",
     "text": [
      "11\n"
     ]
    }
   ],
   "source": [
    "# WAP to print the maximum number in the list\n",
    "l=[1,2,3,6,8,11,3,4]\n",
    "result= reduce(lambda x,y : x if  x>y else y, l)\n",
    "print(result)"
   ]
  },
  {
   "cell_type": "code",
   "execution_count": null,
   "metadata": {},
   "outputs": [],
   "source": []
  }
 ]
}