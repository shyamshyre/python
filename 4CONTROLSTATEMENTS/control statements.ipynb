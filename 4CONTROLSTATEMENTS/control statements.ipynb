{
 "metadata": {
  "language_info": {
   "codemirror_mode": {
    "name": "ipython",
    "version": 3
   },
   "file_extension": ".py",
   "mimetype": "text/x-python",
   "name": "python",
   "nbconvert_exporter": "python",
   "pygments_lexer": "ipython3",
   "version": "3.8.3-final"
  },
  "orig_nbformat": 2,
  "kernelspec": {
   "name": "python3",
   "display_name": "Python 3.8.3 64-bit",
   "metadata": {
    "interpreter": {
     "hash": "0adcc2737ebf6a4a119f135174df96668767fca1ef1112612db5ecadf2b6d608"
    }
   }
  }
 },
 "nbformat": 4,
 "nbformat_minor": 2,
 "cells": [
  {
   "cell_type": "code",
   "execution_count": null,
   "metadata": {},
   "outputs": [],
   "source": [
    "4\n"
   ]
  },
  {
   "cell_type": "code",
   "execution_count": 11,
   "metadata": {},
   "outputs": [
    {
     "output_type": "stream",
     "name": "stdout",
     "text": [
      "30\n"
     ]
    }
   ],
   "source": [
    "print(5*6)"
   ]
  },
  {
   "cell_type": "code",
   "execution_count": 17,
   "metadata": {},
   "outputs": [
    {
     "output_type": "stream",
     "name": "stdout",
     "text": [
      "* * * * * * \n * * * * * \n  * * * * \n   * * * \n    * * \n     * \n"
     ]
    }
   ],
   "source": [
    "no= int(input(\"Enter the input number\"))\n",
    "for i in range(no):\n",
    "         print(\" \"*i+\"* \"*(no-i))"
   ]
  },
  {
   "cell_type": "code",
   "execution_count": 27,
   "metadata": {},
   "outputs": [
    {
     "output_type": "stream",
     "name": "stdout",
     "text": [
      "     \n    * \n   * * \n  * * * \n * * * * \n* * * * * \n * * * * \n  * * * \n   * * \n    * \n"
     ]
    }
   ],
   "source": [
    "no= int(input(\"Enter the input number\"))\n",
    "for i in range(2):\n",
    "        for j in range(no):\n",
    "                 print(\" \"*(no-j)+\"* \"*j) if(i==0) else print(\" \"*j+\"* \"*(no-j))"
   ]
  },
  {
   "cell_type": "code",
   "execution_count": 1,
   "metadata": {},
   "outputs": [
    {
     "output_type": "stream",
     "name": "stdout",
     "text": [
      "1\n2\n3\n4\n5\n"
     ]
    }
   ],
   "source": [
    "#break used to termiante the existing loop\n",
    "# Valid one\n",
    "counter=0\n",
    "while(True):\n",
    "        counter+=1\n",
    "        if(counter>5):\n",
    "                break\n",
    "        else:\n",
    "                print(counter)"
   ]
  },
  {
   "cell_type": "code",
   "execution_count": 2,
   "metadata": {},
   "outputs": [
    {
     "output_type": "error",
     "ename": "SyntaxError",
     "evalue": "'break' outside loop (<ipython-input-2-580a24ae767a>, line 4)",
     "traceback": [
      "\u001b[0;36m  File \u001b[0;32m\"<ipython-input-2-580a24ae767a>\"\u001b[0;36m, line \u001b[0;32m4\u001b[0m\n\u001b[0;31m    break\u001b[0m\n\u001b[0m    ^\u001b[0m\n\u001b[0;31mSyntaxError\u001b[0m\u001b[0;31m:\u001b[0m 'break' outside loop\n"
     ]
    }
   ],
   "source": [
    "x=10\n",
    "if(x>30):\n",
    "        print(\"Working\")\n",
    "break\n",
    "print(\"Hello World\")\n",
    "\n"
   ]
  },
  {
   "cell_type": "code",
   "execution_count": 3,
   "metadata": {},
   "outputs": [
    {
     "output_type": "stream",
     "name": "stdout",
     "text": [
      "0\n1\n2\n4\n"
     ]
    }
   ],
   "source": [
    "#********************************* Continue Statements*******************\n",
    "# Continue statement is used to skip the current itteration in the loop and \n",
    "# continue the next itteration.\n",
    "\n",
    "for i in range(5):\n",
    "        if(i==3):\n",
    "                continue\n",
    "        print(i)"
   ]
  },
  {
   "cell_type": "code",
   "execution_count": 10,
   "metadata": {},
   "outputs": [
    {
     "output_type": "stream",
     "name": "stdout",
     "text": [
      "1\n3\n5\n7\n9\n"
     ]
    }
   ],
   "source": [
    "for i in range(10):\n",
    "    if(i%2==0):\n",
    "     continue\n",
    "    print(i)"
   ]
  },
  {
   "cell_type": "code",
   "execution_count": 13,
   "metadata": {},
   "outputs": [
    {
     "output_type": "stream",
     "name": "stdout",
     "text": [
      "0\n2\n4\n6\n8\n"
     ]
    }
   ],
   "source": [
    "for i in range(10):\n",
    "    if(i%2!=0):\n",
    "     continue\n",
    "    print(i)"
   ]
  },
  {
   "cell_type": "code",
   "execution_count": 1,
   "metadata": {},
   "outputs": [
    {
     "output_type": "stream",
     "name": "stdout",
     "text": [
      "1 0\n2 0\n2 1\n"
     ]
    }
   ],
   "source": [
    "for i in range(3):\n",
    "        for j in range(3):\n",
    "                if i==j:\n",
    "                        break\n",
    "                print(i,j)"
   ]
  },
  {
   "cell_type": "code",
   "execution_count": 3,
   "metadata": {},
   "outputs": [
    {
     "output_type": "stream",
     "name": "stdout",
     "text": [
      "10 is processing\n20 is processing\n30 is processing\n40 is processing\n50 is processing\n60 is processing\nAll the elements successfully Processed Thank you\n"
     ]
    }
   ],
   "source": [
    "#********************else with sequences(loops)*********************\n",
    "# else can be used in conjuction with sequences(for/while) and even\n",
    "# with try,# except,& finally\n",
    "#*******************************************************************\n",
    "# Note:: if the loop statement executed without any break statenment,\n",
    "# then the else part is going to be executed. if not else block is not \n",
    "# going to be executed.\n",
    "\n",
    "l=[10,20,0,30,40,50,0,60]\n",
    "for i in range(len(l)):\n",
    "        if(l[i]>0):\n",
    "                print(\"{} is processing\".format(l[i]))\n",
    "        else:\n",
    "         continue\n",
    "else:\n",
    "        print(\"All the elements successfully Processed Thank you\")"
   ]
  },
  {
   "cell_type": "code",
   "execution_count": null,
   "metadata": {},
   "outputs": [],
   "source": [
    "l=[10,20,0,30,40,50,0,60]\n",
    "for i in range(len(l)):\n",
    "        if(l[i]>0):\n",
    "                print(\"{} is processing\".format(l[i]))\n",
    "        else:\n",
    "         break\n",
    "else:\n",
    "        print(\"All the elements successfully Processed Thank you\")"
   ]
  },
  {
   "cell_type": "code",
   "execution_count": 4,
   "metadata": {},
   "outputs": [
    {
     "output_type": "stream",
     "name": "stdout",
     "text": [
      "100\n"
     ]
    },
    {
     "output_type": "error",
     "ename": "NameError",
     "evalue": "name 'x' is not defined",
     "traceback": [
      "\u001b[0;31m---------------------------------------------------------------------------\u001b[0m",
      "\u001b[0;31mNameError\u001b[0m                                 Traceback (most recent call last)",
      "\u001b[0;32m<ipython-input-4-334a1dd726c0>\u001b[0m in \u001b[0;36m<module>\u001b[0;34m\u001b[0m\n\u001b[1;32m      2\u001b[0m \u001b[0mprint\u001b[0m\u001b[0;34m(\u001b[0m\u001b[0mx\u001b[0m\u001b[0;34m)\u001b[0m\u001b[0;34m\u001b[0m\u001b[0;34m\u001b[0m\u001b[0m\n\u001b[1;32m      3\u001b[0m \u001b[0;32mdel\u001b[0m \u001b[0mx\u001b[0m\u001b[0;34m\u001b[0m\u001b[0;34m\u001b[0m\u001b[0m\n\u001b[0;32m----> 4\u001b[0;31m \u001b[0mprint\u001b[0m\u001b[0;34m(\u001b[0m\u001b[0mx\u001b[0m\u001b[0;34m)\u001b[0m\u001b[0;34m\u001b[0m\u001b[0;34m\u001b[0m\u001b[0m\n\u001b[0m",
      "\u001b[0;31mNameError\u001b[0m: name 'x' is not defined"
     ]
    }
   ],
   "source": [
    "x= 100\n",
    "print(x)\n",
    "del x\n",
    "print(x)"
   ]
  },
  {
   "cell_type": "code",
   "execution_count": 2,
   "metadata": {},
   "outputs": [
    {
     "output_type": "stream",
     "name": "stdout",
     "text": [
      "1\nFalse\nGiven number 21 is not prime\n"
     ]
    }
   ],
   "source": [
    "# Wap to check whether the number is prime or not.\n",
    "\n",
    "isprime=True\n",
    "no = int(input(\"Enter the no to check whether its prime or not ?\"))\n",
    "i=1\n",
    "if no <=1 :\n",
    "        print(\"Values should be greater than 1\")\n",
    "else :\n",
    "        for i in range(1,no-1):\n",
    "                print(i)\n",
    "                if (no%i==0):\n",
    "                        # print(\"Given number {} is composite\".format(no))\n",
    "                        isprime=False\n",
    "                        break\n",
    "                        \n",
    "        if(isprime == False):\n",
    "                print(isprime)\n",
    "                print(\"Given number {} is not prime\".format(no))\n",
    "        else:\n",
    "                print(\"Given number {} is prime\".format(no))"
   ]
  },
  {
   "cell_type": "code",
   "execution_count": 3,
   "metadata": {},
   "outputs": [
    {
     "output_type": "stream",
     "name": "stdout",
     "text": [
      "Composite Number  4\nPrime Number  5\nPrime Number  5\nPrime Number  5\nComposite Number  6\nPrime Number  7\nPrime Number  7\nPrime Number  7\nPrime Number  7\nPrime Number  7\nComposite Number  8\nPrime Number  9\nComposite Number  9\nComposite Number  10\nPrime Number  11\nPrime Number  11\nPrime Number  11\nPrime Number  11\nPrime Number  11\nPrime Number  11\nPrime Number  11\nPrime Number  11\nPrime Number  11\nComposite Number  12\nPrime Number  13\nPrime Number  13\nPrime Number  13\nPrime Number  13\nPrime Number  13\nPrime Number  13\nPrime Number  13\nPrime Number  13\nPrime Number  13\nPrime Number  13\nPrime Number  13\nComposite Number  14\nPrime Number  15\nComposite Number  15\nComposite Number  16\nPrime Number  17\nPrime Number  17\nPrime Number  17\nPrime Number  17\nPrime Number  17\nPrime Number  17\nPrime Number  17\nPrime Number  17\nPrime Number  17\nPrime Number  17\nPrime Number  17\nPrime Number  17\nPrime Number  17\nPrime Number  17\nPrime Number  17\nComposite Number  18\nPrime Number  19\nPrime Number  19\nPrime Number  19\nPrime Number  19\nPrime Number  19\nPrime Number  19\nPrime Number  19\nPrime Number  19\nPrime Number  19\nPrime Number  19\nPrime Number  19\nPrime Number  19\nPrime Number  19\nPrime Number  19\nPrime Number  19\nPrime Number  19\nPrime Number  19\nComposite Number  20\n"
     ]
    }
   ],
   "source": [
    "# Wap to print all the list of prime numbers between the number provided.\n",
    "\n",
    "prime=True\n",
    "no = int(input(\"Enter the no to check whether its prime or not ?\"))\n",
    "i,j=0,0\n",
    "if no <=1 :\n",
    "        print(\"Values should be greater than 1\")\n",
    "else :\n",
    "        for i in range(1,no-1): \n",
    "                i+=1\n",
    "                for j in range(1,i-1):\n",
    "                        j+=1\n",
    "                        #print(\"i\",i ,\"j\",j)\n",
    "                        if(i%j==0):\n",
    "                                prime=False\n",
    "                                print(\"Composite Number  {}\".format(i))\n",
    "                                break\n",
    "                                \n",
    "                        elif(prime == False and i!=2):\n",
    "                                print(\"Prime Number  {}\".format(i))"
   ]
  },
  {
   "cell_type": "code",
   "execution_count": null,
   "metadata": {},
   "outputs": [],
   "source": []
  }
 ]
}