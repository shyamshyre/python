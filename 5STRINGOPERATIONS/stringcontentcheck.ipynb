{
 "metadata": {
  "language_info": {
   "codemirror_mode": {
    "name": "ipython",
    "version": 3
   },
   "file_extension": ".py",
   "mimetype": "text/x-python",
   "name": "python",
   "nbconvert_exporter": "python",
   "pygments_lexer": "ipython3",
   "version": "3.8.3-final"
  },
  "orig_nbformat": 2,
  "kernelspec": {
   "name": "python3",
   "display_name": "Python 3.8.3 64-bit",
   "metadata": {
    "interpreter": {
     "hash": "0adcc2737ebf6a4a119f135174df96668767fca1ef1112612db5ecadf2b6d608"
    }
   }
  }
 },
 "nbformat": 4,
 "nbformat_minor": 2,
 "cells": [
  {
   "cell_type": "code",
   "execution_count": 13,
   "metadata": {},
   "outputs": [
    {
     "output_type": "stream",
     "name": "stdout",
     "text": [
      "True\nFalse\nFalse\nFalse\nTrue\nFalse\nFalse\n"
     ]
    }
   ],
   "source": [
    "# # To check type of characters present in the string.\n",
    "# 1. isalnum()::  Returns true if all the characters are alpha numberics [A-z,a-z,0-9].\n",
    "# 2. isalpha()::     Returns true if all the characters are alphabets[A-z,a-z].\n",
    "# 3. isupper()::  Returns true if all the characters in the string are upper case. \n",
    "# 4. islower()::  Returns true if all the characters in the string are lower case. \n",
    "# 5. isdigit()::  Returns true if all the characters in the string are numbers.\n",
    "# 6. istitle()::  Returns true if all the characters in the string are titlecase.\n",
    "# 7. isspace()::  Returns true if the string contains only spaces.\n",
    "\n",
    "s1=\"Welcome To India 123445678\"\n",
    "\n",
    "print(s1.isalnum())\n",
    "print(s1.isalpha())\n",
    "print(s1.isupper())\n",
    "print(s1.islower())\n",
    "print(s1.isdigit())\n",
    "print(s1.istitle())\n",
    "print(s1.isspace())\n",
    "# print(s1.isspace()) == > This checks whether string contains only spaces so false\n",
    "\n",
    "# s1=\"Welcome to India 123445678\"  isalnum()=> fails because of space"
   ]
  },
  {
   "cell_type": "code",
   "execution_count": 23,
   "metadata": {},
   "outputs": [
    {
     "output_type": "stream",
     "name": "stdout",
     "text": [
      "The string contains alpha numerics\nString contains non space special characters\n"
     ]
    }
   ],
   "source": [
    "# Wap to check the type of character in string wheter alpha num or num or titlcase or space or alpha\n",
    "s=input(\"Enter the  charater to check\")\n",
    "if (s.isalnum()):\n",
    "    print(\"The string contains alpha numerics\")\n",
    "if(s.isalpha()):\n",
    "    print(\"The string contains alphabets\")\n",
    "    if(s.islower()):\n",
    "        print(\"Contains small letters only\")\n",
    "    elif(s.isupper()):\n",
    "        print(\"String contains capital letters only\")\n",
    "    else:\n",
    "        print(\"String contains both capital and small letters\")\n",
    "elif(s.isspace()):\n",
    "    print(\"String contains only spaces\")\n",
    "else:\n",
    "    print(\"String contains non space special characters\")\n"
   ]
  },
  {
   "cell_type": "code",
   "execution_count": null,
   "metadata": {},
   "outputs": [],
   "source": []
  }
 ]
}