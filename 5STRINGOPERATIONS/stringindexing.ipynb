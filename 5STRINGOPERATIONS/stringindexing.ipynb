{
 "metadata": {
  "language_info": {
   "codemirror_mode": {
    "name": "ipython",
    "version": 3
   },
   "file_extension": ".py",
   "mimetype": "text/x-python",
   "name": "python",
   "nbconvert_exporter": "python",
   "pygments_lexer": "ipython3",
   "version": "3.8.3-final"
  },
  "orig_nbformat": 2,
  "kernelspec": {
   "name": "python3",
   "display_name": "Python 3.8.3 64-bit",
   "metadata": {
    "interpreter": {
     "hash": "0adcc2737ebf6a4a119f135174df96668767fca1ef1112612db5ecadf2b6d608"
    }
   }
  }
 },
 "nbformat": 4,
 "nbformat_minor": 2,
 "cells": [
  {
   "cell_type": "code",
   "execution_count": 5,
   "metadata": {},
   "outputs": [
    {
     "output_type": "stream",
     "name": "stdout",
     "text": [
      "0\n11\n1\n12\n0\n11\n1\n12\n"
     ]
    }
   ],
   "source": [
    "# if we want to find the index value of the given string then we use following methods.\n",
    "# find() :: Default direction is from left to right\n",
    "            # Returns the first mathcing index from left to right.\n",
    "# rfind():: Default direction is from right to left\n",
    "            # Returns the first mathcing index from right to left.\n",
    "# index()\n",
    "# rindex()\n",
    "\n",
    "# If no result is identified then it resturns -1\n",
    "\n",
    "s=\"abcdefghiaaab\"\n",
    "# the indexing starts from asusally 0\n",
    "# Checks from left to right and finds the character matching index position\n",
    "print(s.find('a'))\n",
    "# Checks from right to left and finds the character matching index position\n",
    "print(s.rfind('a'))\n",
    "# Checks from left to right and finds the character matching index position\n",
    "print(s.find('b'))\n",
    "# Checks from right to left and finds the character matching index position\n",
    "print(s.rfind('b'))\n",
    "\n",
    "print(s.index('a'))\n",
    "print(s.rindex('a'))\n",
    "\n",
    "print(s.index('b'))\n",
    "print(s.rindex('b'))\n",
    "\n",
    "\n",
    "\n",
    "\n"
   ]
  },
  {
   "cell_type": "code",
   "execution_count": 15,
   "metadata": {},
   "outputs": [
    {
     "output_type": "stream",
     "name": "stdout",
     "text": [
      "1\n13\n"
     ]
    }
   ],
   "source": [
    "# Example if i want to find the occurence of the string in the range rather than comlete string.\n",
    "\n",
    "# s.find('substring',beginindex,end-1index)\n",
    " \n",
    "s=\"abbcdefghiaaab\"\n",
    "# print(s.find('b',0,3))\n",
    "# print(s.rfind('b',0,3))\n",
    "\n",
    "# In the above example its checking the character 'b' in the range of 0 to 3 ie checking b exists in 'abb' (0to 3-1 =2)\n",
    "# Output :: Returning the occurence of the index i.e 1\n",
    "\n",
    "\n",
    "# s=   \"a b b c d e f g h i a  a  a  b\"\n",
    "# index=0 1 2 3 4 5 6 7 8 9 10 11 12 13\n",
    "print(s.index('b',0,15))\n",
    "# Here the character b is serached in between the index of 3 and 7-1(6) in the reverse direction\n",
    "# Output:: 1\n",
    "\n",
    "print(s.rindex('b',12,15))\n",
    "# Here the character b is serached in between the index of 3 and 7-1(6) in the reverse direction\n",
    "# Output:: 13\n",
    "\n",
    "\n",
    "\n",
    "\n"
   ]
  },
  {
   "cell_type": "code",
   "execution_count": 16,
   "metadata": {},
   "outputs": [
    {
     "output_type": "error",
     "ename": "ValueError",
     "evalue": "substring not found",
     "traceback": [
      "\u001b[0;31m---------------------------------------------------------------------------\u001b[0m",
      "\u001b[0;31mValueError\u001b[0m                                Traceback (most recent call last)",
      "\u001b[0;32m<ipython-input-16-7fa34ae0f156>\u001b[0m in \u001b[0;36m<module>\u001b[0;34m\u001b[0m\n\u001b[1;32m      6\u001b[0m \u001b[0;34m\u001b[0m\u001b[0m\n\u001b[1;32m      7\u001b[0m \u001b[0ms\u001b[0m\u001b[0;34m=\u001b[0m\u001b[0;34m\"abbcdefghiaaab\"\u001b[0m\u001b[0;34m\u001b[0m\u001b[0;34m\u001b[0m\u001b[0m\n\u001b[0;32m----> 8\u001b[0;31m \u001b[0ms\u001b[0m\u001b[0;34m.\u001b[0m\u001b[0mindex\u001b[0m\u001b[0;34m(\u001b[0m\u001b[0;34m'z'\u001b[0m\u001b[0;34m)\u001b[0m\u001b[0;34m\u001b[0m\u001b[0;34m\u001b[0m\u001b[0m\n\u001b[0m",
      "\u001b[0;31mValueError\u001b[0m: substring not found"
     ]
    }
   ],
   "source": [
    "# NOTE:: DIFFERENCE BETWEEN FIND AND INDEX\n",
    "# The only KEY differnce between find and index is that find returns -1 incase of the substring isnt found where index returns value error.\n",
    "# Use Case :: if the program need to continue still the index of occurence isnt found then go with find()\n",
    "#             if the program need to terminate/exit if the index of substring isnt found in the given string then go with index.\n",
    "\n",
    "# s.index('substring',beginindex,end-1index)\n",
    "# s.rindex('substring',beginindex,end-1index)\n",
    "\n",
    "s=\"abbcdefghiaaab\"\n",
    "s.index('z')\n"
   ]
  },
  {
   "cell_type": "code",
   "execution_count": 17,
   "metadata": {},
   "outputs": [
    {
     "output_type": "execute_result",
     "data": {
      "text/plain": [
       "-1"
      ]
     },
     "metadata": {},
     "execution_count": 17
    }
   ],
   "source": [
    "s=\"abbcdefghiaaab\"\n",
    "s.find('z')"
   ]
  },
  {
   "cell_type": "code",
   "execution_count": null,
   "metadata": {},
   "outputs": [],
   "source": []
  }
 ]
}