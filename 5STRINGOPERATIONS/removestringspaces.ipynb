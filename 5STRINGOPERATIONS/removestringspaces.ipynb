{
 "metadata": {
  "language_info": {
   "codemirror_mode": {
    "name": "ipython",
    "version": 3
   },
   "file_extension": ".py",
   "mimetype": "text/x-python",
   "name": "python",
   "nbconvert_exporter": "python",
   "pygments_lexer": "ipython3",
   "version": "3.8.3-final"
  },
  "orig_nbformat": 2,
  "kernelspec": {
   "name": "python3",
   "display_name": "Python 3.8.3 64-bit",
   "metadata": {
    "interpreter": {
     "hash": "0adcc2737ebf6a4a119f135174df96668767fca1ef1112612db5ecadf2b6d608"
    }
   }
  }
 },
 "nbformat": 4,
 "nbformat_minor": 2,
 "cells": [
  {
   "cell_type": "code",
   "execution_count": null,
   "metadata": {},
   "outputs": [],
   "source": [
    "# lstrip(),rstrip() and strip() are used to remove the spaces in the given String.\n",
    "# lstrip():: Removes the spaces at the begining of the string.\n",
    "# rstrip():: Removes the spaces at the ending of the string.\n",
    "# strip():: Removes the spaces at the both ends i.e begining and ending of the string.\n",
    "\n",
    "s=input(\"Enter your country name\")\n",
    "if(s == \"India\"):\n",
    "    print(\"You are indian.\")\n",
    "elif(s == \"America\"):\n",
    "    print(\"You are American.\")\n",
    "else:\n",
    "    print(\"You are Human\")\n",
    "\n",
    "# Input:: \n",
    "# s=\"  India\"\n",
    "# s=\"  India  \"\n",
    "\n",
    "\n",
    "\n",
    "\n"
   ]
  },
  {
   "cell_type": "code",
   "execution_count": null,
   "metadata": {},
   "outputs": [],
   "source": [
    "# in the following program input comparison fails as they have spaces.\n",
    "\n",
    "\n",
    "s=input(\"Enter your country name\").strip()\n",
    "if(s == \"India\"):\n",
    "    print(\"You are indian.\")\n",
    "elif(s == \"America\"):\n",
    "    print(\"You are American.\")\n",
    "else:\n",
    "    print(\"You are Human\")\n",
    "\n",
    "    # Input:: \n",
    "# s=\"  India\"\n",
    "# s=\"  India  \"\n",
    "Ouptut:: Indian\n"
   ]
  },
  {
   "cell_type": "code",
   "execution_count": null,
   "metadata": {},
   "outputs": [],
   "source": [
    "s=input(\"Enter your country name\")\n",
    "scountry= s.strip()\n",
    "if(scountry == \"India\"):\n",
    "    print(\"You are indian.\")\n",
    "elif(scountry == \"America\"):\n",
    "    print(\"You are American.\")\n",
    "else:\n",
    "    print(\"You are Human\")"
   ]
  },
  {
   "cell_type": "code",
   "execution_count": null,
   "metadata": {},
   "outputs": [],
   "source": []
  }
 ]
}