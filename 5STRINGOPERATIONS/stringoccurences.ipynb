{
 "metadata": {
  "language_info": {
   "codemirror_mode": {
    "name": "ipython",
    "version": 3
   },
   "file_extension": ".py",
   "mimetype": "text/x-python",
   "name": "python",
   "nbconvert_exporter": "python",
   "pygments_lexer": "ipython3",
   "version": "3.8.3-final"
  },
  "orig_nbformat": 2,
  "kernelspec": {
   "name": "python3",
   "display_name": "Python 3.8.3 64-bit",
   "metadata": {
    "interpreter": {
     "hash": "0adcc2737ebf6a4a119f135174df96668767fca1ef1112612db5ecadf2b6d608"
    }
   }
  }
 },
 "nbformat": 4,
 "nbformat_minor": 2,
 "cells": [
  {
   "cell_type": "code",
   "execution_count": null,
   "metadata": {},
   "outputs": [],
   "source": [
    "# count() method is used to find the number of occurences of character in the given string.\n",
    "# count(substring,begin,end)\n",
    "s=\"aaabbbbabbabababababa\"\n",
    "print(s.count('a'))\n",
    "print(s.count('b'))\n",
    "# This method even helps in finding the occurence of words in the given string.\n",
    "print(s.count('aa'))\n",
    "print(s.count('bb'))\n"
   ]
  },
  {
   "cell_type": "code",
   "execution_count": 42,
   "metadata": {
    "tags": []
   },
   "outputs": [
    {
     "output_type": "stream",
     "name": "stdout",
     "text": [
      "The string occured following times 2\nthe index psoition is 0\nthe index psoition is 21\n"
     ]
    }
   ],
   "source": [
    "# Wap to print the index and occurences of the substring\n",
    "s=input(\"Enter the given string\")\n",
    "ss=input(\"Enter the substring\")\n",
    "sidx=0\n",
    "soccurence= s.count(ss)\n",
    "idxcounter=0\n",
    "print(\"The string occured following times\", soccurence)\n",
    "for idxcounter in range(soccurence):\n",
    "    if(idxcounter==0):\n",
    "        sidx=s.find(ss,0,len(s))\n",
    "        print(\"the index psoition is\", sidx)\n",
    "    elif(idxcounter > 0):\n",
    "        sidx=s.find(ss,sidx+len(ss),len(s))\n",
    "        print(\"the index psoition is\", sidx)\n",
    "    idxcounter+1\n"
   ]
  },
  {
   "cell_type": "code",
   "execution_count": null,
   "metadata": {},
   "outputs": [],
   "source": []
  }
 ]
}