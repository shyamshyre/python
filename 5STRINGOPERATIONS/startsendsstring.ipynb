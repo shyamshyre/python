{
 "metadata": {
  "language_info": {
   "codemirror_mode": {
    "name": "ipython",
    "version": 3
   },
   "file_extension": ".py",
   "mimetype": "text/x-python",
   "name": "python",
   "nbconvert_exporter": "python",
   "pygments_lexer": "ipython3",
   "version": "3.8.3-final"
  },
  "orig_nbformat": 2,
  "kernelspec": {
   "name": "python3",
   "display_name": "Python 3.8.3 64-bit",
   "metadata": {
    "interpreter": {
     "hash": "0adcc2737ebf6a4a119f135174df96668767fca1ef1112612db5ecadf2b6d608"
    }
   }
  }
 },
 "nbformat": 4,
 "nbformat_minor": 2,
 "cells": [
  {
   "cell_type": "code",
   "execution_count": 6,
   "metadata": {},
   "outputs": [
    {
     "output_type": "stream",
     "name": "stdout",
     "text": [
      "True\nFalse\nFalse\nTrue\nTrue\nTrue\n"
     ]
    }
   ],
   "source": [
    "# To check the given string starts with the following character if it starts then returns true else false\n",
    "# To check the given string ends with the following character if it ends  then returns true else false\n",
    "# s= \"zczCZXcZXcZXCzxcx\"\n",
    "# 1 s.startswith(substring) :: Returns true if the string starts with provided substring\n",
    "# 2 s.endsswith(substring) :: Returns true if the string starts with provided substring\n",
    "# case sensitive Apple and apple are treated differnt so it returned false in case2\n",
    "\n",
    "s=\"Apple is rich in nutrients\"\n",
    "print(s.startswith(\"Apple\"))\n",
    "print(s.startswith(\"apple\"))\n",
    "print(s.endswith(\"Apple\"))\n",
    "print(s.endswith(\"s\"))\n",
    "print(s.endswith(\"nutrients\"))\n",
    "print(s.endswith(\"in nutrients\"))\n",
    "\n"
   ]
  },
  {
   "cell_type": "code",
   "execution_count": null,
   "metadata": {},
   "outputs": [],
   "source": []
  }
 ]
}