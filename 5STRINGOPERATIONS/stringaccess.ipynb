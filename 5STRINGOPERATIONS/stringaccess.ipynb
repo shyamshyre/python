{
 "metadata": {
  "language_info": {
   "codemirror_mode": {
    "name": "ipython",
    "version": 3
   },
   "file_extension": ".py",
   "mimetype": "text/x-python",
   "name": "python",
   "nbconvert_exporter": "python",
   "pygments_lexer": "ipython3",
   "version": "3.8.3-final"
  },
  "orig_nbformat": 2,
  "kernelspec": {
   "name": "python3",
   "display_name": "Python 3.8.3 64-bit",
   "metadata": {
    "interpreter": {
     "hash": "0adcc2737ebf6a4a119f135174df96668767fca1ef1112612db5ecadf2b6d608"
    }
   }
  }
 },
 "nbformat": 4,
 "nbformat_minor": 2,
 "cells": [
  {
   "cell_type": "code",
   "execution_count": 42,
   "metadata": {},
   "outputs": [
    {
     "output_type": "stream",
     "name": "stdout",
     "text": [
      "H\n"
     ]
    }
   ],
   "source": [
    "# Accessing characters in python is possible using 2 ways..\n",
    "# 1) By using Index.\n",
    "# 2) By using slice operator.\n",
    "\n",
    "# 1)  This is just by acessing index.\n",
    "s=\"HelloWorld\"\n",
    "# print(s[0])\n",
    "\n",
    "\n",
    "# 2) Slice Operator Syntax\n",
    "#s[begin index : end index : step]\n",
    "# print(s[0:-1])\n",
    "\n",
    "# print(s[:-1])\n",
    "print(s[0::-2])\n",
    "\n",
    "# print(s[0::2])\n",
    "\n",
    "# print(s[::2])\n",
    "\n",
    "# print(s[0:-2])\n",
    "\n",
    "# Acessing the characters in string is possible by using forward or neagtive index.\n",
    "# When the step index is positive , it moves in the forward direction.\n",
    "# When the step index is negative , it moves in the backward direction.\n",
    "# Forward direction begin to string ending index is calucated as endindex-1 (Positive)\n",
    "# Backward direction begin to string ending index is calucated as endindex+1 (Negative)\n"
   ]
  },
  {
   "cell_type": "code",
   "execution_count": 5,
   "metadata": {},
   "outputs": [
    {
     "output_type": "stream",
     "name": "stdout",
     "text": [
      "H\n"
     ]
    }
   ],
   "source": [
    "\n",
    "s=\"Hello World\"\n",
    "print(s[0])"
   ]
  },
  {
   "cell_type": "code",
   "execution_count": 6,
   "metadata": {},
   "outputs": [
    {
     "output_type": "stream",
     "name": "stdout",
     "text": [
      "e\n"
     ]
    }
   ],
   "source": [
    "s=\"Hello World\"\n",
    "print(s[1])"
   ]
  },
  {
   "cell_type": "code",
   "execution_count": 7,
   "metadata": {},
   "outputs": [
    {
     "output_type": "error",
     "ename": "IndexError",
     "evalue": "string index out of range",
     "traceback": [
      "\u001b[0;31m---------------------------------------------------------------------------\u001b[0m",
      "\u001b[0;31mIndexError\u001b[0m                                Traceback (most recent call last)",
      "\u001b[0;32m<ipython-input-7-b8eb441d6f7a>\u001b[0m in \u001b[0;36m<module>\u001b[0;34m\u001b[0m\n\u001b[1;32m      1\u001b[0m \u001b[0ms\u001b[0m\u001b[0;34m=\u001b[0m\u001b[0;34m\"Hello World\"\u001b[0m\u001b[0;34m\u001b[0m\u001b[0;34m\u001b[0m\u001b[0m\n\u001b[0;32m----> 2\u001b[0;31m \u001b[0mprint\u001b[0m\u001b[0;34m(\u001b[0m\u001b[0ms\u001b[0m\u001b[0;34m[\u001b[0m\u001b[0;36m100\u001b[0m\u001b[0;34m]\u001b[0m\u001b[0;34m)\u001b[0m\u001b[0;34m\u001b[0m\u001b[0;34m\u001b[0m\u001b[0m\n\u001b[0m",
      "\u001b[0;31mIndexError\u001b[0m: string index out of range"
     ]
    }
   ],
   "source": [
    "s=\"Hello World\"\n",
    "print(s[100])"
   ]
  },
  {
   "cell_type": "code",
   "execution_count": 33,
   "metadata": {},
   "outputs": [
    {
     "output_type": "stream",
     "name": "stdout",
     "text": [
      "The positive index of character I, is 0 and negative index of -5\nThe positive index of character n, is 1 and negative index of -4\nThe positive index of character d, is 2 and negative index of -3\nThe positive index of character i, is 3 and negative index of -2\nThe positive index of character a, is 4 and negative index of -1\n"
     ]
    }
   ],
   "source": [
    "# Wap to print the positive and negative index of a number.\n",
    "s=\"India\"\n",
    "#     I  n  d   i   a\n",
    "#+Ve  0  1  2   3   4\n",
    "#-Ve -5 -4 -3  -2  -1\n",
    "pi = 0  \n",
    "for c in s:\n",
    "    print(\"The positive index of character {}, is {} and negative index of {}\".format(c,pi,pi-len(s)))\n",
    "    pi+=1\n"
   ]
  },
  {
   "cell_type": "code",
   "execution_count": 1,
   "metadata": {},
   "outputs": [
    {
     "output_type": "stream",
     "name": "stdout",
     "text": [
      "The positive index of character I, is 0 and negative index of -5\nThe positive index of character n, is 1 and negative index of -4\nThe positive index of character d, is 2 and negative index of -3\nThe positive index of character i, is 3 and negative index of -2\nThe positive index of character a, is 4 and negative index of -1\n"
     ]
    }
   ],
   "source": [
    "# Wap to print the positive and negative index of a number.\n",
    "s=\"India\"\n",
    "#     I  n  d   i   a\n",
    "#+Ve  0  1  2   3   4\n",
    "#-Ve -5 -4 -3  -2  -1\n",
    "pi = 0  \n",
    "for c in s:\n",
    "    print(\"The positive index of character {}, is {} and negative index of {}\".format(c,pi,pi-len(s)))\n",
    "    pi+=1\n"
   ]
  },
  {
   "cell_type": "code",
   "execution_count": 34,
   "metadata": {},
   "outputs": [
    {
     "output_type": "stream",
     "name": "stdout",
     "text": [
      "Wel\n"
     ]
    }
   ],
   "source": [
    "# slicing of string.\n",
    "# This returns the substring\n",
    "\n",
    "s=\"Welcome\"\n",
    "s1=s[0:3]\n",
    "print(s1)"
   ]
  },
  {
   "cell_type": "code",
   "execution_count": null,
   "metadata": {},
   "outputs": [],
   "source": []
  }
 ]
}