{
 "metadata": {
  "language_info": {
   "codemirror_mode": {
    "name": "ipython",
    "version": 3
   },
   "file_extension": ".py",
   "mimetype": "text/x-python",
   "name": "python",
   "nbconvert_exporter": "python",
   "pygments_lexer": "ipython3",
   "version": "2.7.16-final"
  },
  "orig_nbformat": 2,
  "kernelspec": {
   "name": "python3",
   "display_name": "Python 2.7.16 64-bit",
   "metadata": {
    "interpreter": {
     "hash": "545e036c4b32438aced1f6b3c8d38ca151d9c36189e05839cb0aa568fda70ddd"
    }
   }
  }
 },
 "nbformat": 4,
 "nbformat_minor": 2,
 "cells": [
  {
   "cell_type": "code",
   "execution_count": 4,
   "metadata": {},
   "outputs": [
    {
     "output_type": "stream",
     "name": "stdout",
     "text": [
      "300\n"
     ]
    },
    {
     "output_type": "error",
     "ename": "TypeError",
     "evalue": "unsupported operand type(s) for +: 'int' and 'instance'",
     "traceback": [
      "\u001b[0;31m\u001b[0m",
      "\u001b[0;31mTypeError\u001b[0mTraceback (most recent call last)",
      "\u001b[0;32m<ipython-input-4-8cb13478d70a>\u001b[0m in \u001b[0;36m<module>\u001b[0;34m()\u001b[0m\n\u001b[1;32m     10\u001b[0m \u001b[0;34m\u001b[0m\u001b[0m\n\u001b[1;32m     11\u001b[0m \u001b[0;32mprint\u001b[0m\u001b[0;34m(\u001b[0m\u001b[0mb1\u001b[0m\u001b[0;34m+\u001b[0m\u001b[0mb2\u001b[0m\u001b[0;34m)\u001b[0m\u001b[0;34m\u001b[0m\u001b[0m\n\u001b[0;32m---> 12\u001b[0;31m \u001b[0;32mprint\u001b[0m\u001b[0;34m(\u001b[0m\u001b[0mb1\u001b[0m\u001b[0;34m+\u001b[0m\u001b[0mb2\u001b[0m\u001b[0;34m+\u001b[0m\u001b[0mb3\u001b[0m\u001b[0;34m)\u001b[0m\u001b[0;34m\u001b[0m\u001b[0m\n\u001b[0m\u001b[1;32m     13\u001b[0m \u001b[0;34m\u001b[0m\u001b[0m\n\u001b[1;32m     14\u001b[0m \u001b[0;31m# TypeError: unsupported operand type(s) for +: 'int' and 'instance'\u001b[0m\u001b[0;34m\u001b[0m\u001b[0;34m\u001b[0m\u001b[0m\n",
      "\u001b[0;31mTypeError\u001b[0m: unsupported operand type(s) for +: 'int' and 'instance'"
     ]
    }
   ],
   "source": [
    "class Book:\n",
    "    def __init__(self,pages):\n",
    "        self.pages = pages\n",
    "    def __add__(self,other):\n",
    "        return self.pages+other.pages\n",
    "    \n",
    "b1 = Book(100)\n",
    "b2 = Book(200)\n",
    "b3 = Book(300)\n",
    "\n",
    "print(b1+b2)\n",
    "print(b1+b2+b3)\n",
    "\n",
    "# TypeError: unsupported operand type(s) for +: 'int' and 'instance'"
   ]
  },
  {
   "cell_type": "code",
   "execution_count": 16,
   "metadata": {},
   "outputs": [
    {
     "output_type": "stream",
     "name": "stdout",
     "text": [
      "False\nTrue\nTrue\nFalse\n"
     ]
    }
   ],
   "source": [
    "class Student:\n",
    "    def __init__(self,name,marks):\n",
    "        self.name=name\n",
    "        self.marks=marks\n",
    "    def __lt__(self,other):\n",
    "       if self.marks < other.marks:\n",
    "           self.result= True\n",
    "       elif self.marks > other.marks:\n",
    "           self.result= False\n",
    "       return self.result\n",
    "    def __ge__(self,other):\n",
    "        result= False\n",
    "        if self.marks >= other.marks:\n",
    "            result =True\n",
    "        return result\n",
    "\n",
    "    \n",
    "\n",
    "s1 = Student(\"shyam\",300)\n",
    "s2 = Student(\"Ram\",200)\n",
    "# Note:: Implement for one automatically it works for other (implement for less than it works for greater than)\n",
    "print(s1<s2)\n",
    "print(s2<s1)\n",
    "# Note:: Implement for one automatically it works for other (implement for less than equals it works for greater than equals)\n",
    "print(s1>=s2)\n",
    "print(s1<=s2)\n",
    "\n"
   ]
  },
  {
   "cell_type": "code",
   "execution_count": 19,
   "metadata": {},
   "outputs": [
    {
     "output_type": "stream",
     "name": "stdout",
     "text": [
      "1000000\n"
     ]
    },
    {
     "output_type": "error",
     "ename": "TypeError",
     "evalue": "unsupported operand type(s) for *: 'instance' and 'instance'",
     "traceback": [
      "\u001b[0;31m\u001b[0m",
      "\u001b[0;31mTypeError\u001b[0mTraceback (most recent call last)",
      "\u001b[0;32m<ipython-input-19-055935ea5a1f>\u001b[0m in \u001b[0;36m<module>\u001b[0;34m()\u001b[0m\n\u001b[1;32m     13\u001b[0m \u001b[0mt\u001b[0m \u001b[0;34m=\u001b[0m \u001b[0mTimesheet\u001b[0m\u001b[0;34m(\u001b[0m\u001b[0;34m\"Shyam\"\u001b[0m\u001b[0;34m,\u001b[0m\u001b[0;36m10000\u001b[0m\u001b[0;34m)\u001b[0m\u001b[0;34m\u001b[0m\u001b[0m\n\u001b[1;32m     14\u001b[0m \u001b[0;32mprint\u001b[0m\u001b[0;34m(\u001b[0m\u001b[0me\u001b[0m\u001b[0;34m*\u001b[0m\u001b[0mt\u001b[0m\u001b[0;34m)\u001b[0m\u001b[0;34m\u001b[0m\u001b[0m\n\u001b[0;32m---> 15\u001b[0;31m \u001b[0;32mprint\u001b[0m\u001b[0;34m(\u001b[0m\u001b[0mt\u001b[0m\u001b[0;34m*\u001b[0m\u001b[0me\u001b[0m\u001b[0;34m)\u001b[0m\u001b[0;34m\u001b[0m\u001b[0m\n\u001b[0m\u001b[1;32m     16\u001b[0m \u001b[0;34m\u001b[0m\u001b[0m\n",
      "\u001b[0;31mTypeError\u001b[0m: unsupported operand type(s) for *: 'instance' and 'instance'"
     ]
    }
   ],
   "source": [
    "class Employee:\n",
    "    def __init__(self, name, hours):\n",
    "        self.name=name\n",
    "        self.hours=hours\n",
    "    def __mul__(self,other):\n",
    "        return self.hours * other.rate\n",
    "class Timesheet:\n",
    "    def __init__(self, name, rate):\n",
    "        self.name=name\n",
    "        self.rate=rate\n",
    "  \n",
    "e = Employee(\"Shyam\",100)\n",
    "t = Timesheet(\"Shyam\",10000)\n",
    "print(e*t)\n",
    "\n",
    "print(t*e)\n",
    "# Error: unsupported operand type(s) for *: 'instance' and 'instance'\n",
    "# As the first operand is timesheet class and we dont have magic methos or overloading implemented in the Timesheet class.\n",
    "\n"
   ]
  },
  {
   "cell_type": "code",
   "execution_count": 23,
   "metadata": {},
   "outputs": [
    {
     "output_type": "stream",
     "name": "stdout",
     "text": [
      "1000000\n1000000\n"
     ]
    }
   ],
   "source": [
    "class Employee:\n",
    "    def __init__(self, name, hours):\n",
    "        self.name=name\n",
    "        self.hours=hours\n",
    "    def __mul__(self,other):\n",
    "        return self.hours * other.rate\n",
    "class Timesheet:\n",
    "    def __init__(self, name, rate):\n",
    "        self.name=name\n",
    "        self.rate=rate\n",
    "    def __mul__(self,other):\n",
    "        return self.rate * other.hours\n",
    "  \n",
    "e = Employee(\"Shyam\",100)\n",
    "t = Timesheet(\"Shyam\",10000)\n",
    "# Now it works in both the cases:\n",
    "print(t*e)\n",
    "print(e*t)"
   ]
  },
  {
   "cell_type": "code",
   "execution_count": 25,
   "metadata": {},
   "outputs": [
    {
     "output_type": "stream",
     "name": "stdout",
     "text": [
      "<__main__.Employee instance at 0x108ca1320>\n"
     ]
    }
   ],
   "source": [
    "class Employee:\n",
    "    def __init__(self, name, hours):\n",
    "        self.name=name\n",
    "        self.hours=hours\n",
    "e = Employee(\"shyam\",1000)\n",
    "print(e)\n"
   ]
  },
  {
   "cell_type": "code",
   "execution_count": 26,
   "metadata": {},
   "outputs": [
    {
     "output_type": "stream",
     "name": "stdout",
     "text": [
      "Name is shyam , Hours are 1000\n"
     ]
    }
   ],
   "source": [
    "class Employee:\n",
    "    def __init__(self, name, hours):\n",
    "        self.name=name\n",
    "        self.hours=hours\n",
    "    def __str__(self):\n",
    "        return \"Name is {} , Hours are {}\".format(self.name,self.hours)\n",
    "e = Employee(\"shyam\",1000)\n",
    "# whenever we are printing object reference PVM internally calls __str__(), if we want any customization we need to override the following method.\n",
    "print(e)"
   ]
  },
  {
   "cell_type": "code",
   "execution_count": 29,
   "metadata": {},
   "outputs": [
    {
     "output_type": "stream",
     "name": "stdout",
     "text": [
      "<__main__.Book instance at 0x108c3cf80>\n<__main__.Book instance at 0x108c3cd88>\n"
     ]
    }
   ],
   "source": [
    "class Book:\n",
    "    def __init__(self,pages):\n",
    "        self.pages = pages\n",
    "    def __add__(self,other):\n",
    "        return Book(self.pages+other.pages)\n",
    "    \n",
    "b1 = Book(100)\n",
    "b2 = Book(200)\n",
    "b3 = Book(300)\n",
    "\n",
    "# print(b1+b2)\n",
    "print(b1+b2+b3)\n",
    "# The reason for the error is becauus of b1 +b2 returns to int (300) where as b3 is book object so the addition is not possible between (b1+b2+b3)\n",
    "# Solution: As its not possible to perform + operation betwee int and Book , return the result in Book object format so that the problem would be solved\n"
   ]
  },
  {
   "cell_type": "code",
   "execution_count": 31,
   "metadata": {},
   "outputs": [
    {
     "output_type": "stream",
     "name": "stdout",
     "text": [
      "Total Pages 600\n"
     ]
    }
   ],
   "source": [
    "class Book:\n",
    "    def __init__(self,pages):\n",
    "        self.pages = pages\n",
    "    def __add__(self,other):\n",
    "        return Book(self.pages+other.pages)\n",
    "    def __str__(self):\n",
    "        return \"Total Pages {}\".format(self.pages)\n",
    "    \n",
    "b1 = Book(100)\n",
    "b2 = Book(200)\n",
    "b3 = Book(300)\n",
    "\n",
    "# print(b1+b2)\n",
    "print(b1+b2+b3)\n",
    "\n",
    "# The reason for the error is becauus of b1 +b2 returns to int (300) where as b3 is book object so the addition is not possible between (b1+b2+b3)\n",
    "# Solution: As its not possible to perform + operation betwee int and Book , return the result in Book object format so that the problem would be solved\n",
    "# Output :: <__main__.Book instance at 0x108c3cf80>\n",
    "# Override the __str__() to print the result.\n"
   ]
  },
  {
   "cell_type": "code",
   "execution_count": 34,
   "metadata": {},
   "outputs": [
    {
     "output_type": "stream",
     "name": "stdout",
     "text": [
      "mul\nadd\nadd\nTotal Pages 60500\n"
     ]
    }
   ],
   "source": [
    "class Book:\n",
    "    def __init__(self,pages):\n",
    "        self.pages = pages\n",
    "    def __add__(self,other):\n",
    "        print(\"add\")\n",
    "        return Book(self.pages+other.pages)\n",
    "        \n",
    "    def __mul__(self,other):\n",
    "        print(\"mul\")\n",
    "        return Book(self.pages*other.pages)\n",
    "        \n",
    "\n",
    "    def __str__(self):\n",
    "        return \"Total Pages {}\".format(self.pages)\n",
    "    \n",
    "b1 = Book(100)\n",
    "b2 = Book(200)\n",
    "b3 = Book(300)\n",
    "b4 = Book(400)\n",
    "print(b1+b2*b3+b4)\n",
    "# * operator has high precedence b2*b3\n",
    "# + operator has next precedence b1+b2*b3\n",
    "# + operator has next precedence b1+b2*b3+b4\n",
    "\n"
   ]
  },
  {
   "cell_type": "code",
   "execution_count": null,
   "metadata": {},
   "outputs": [],
   "source": []
  }
 ]
}