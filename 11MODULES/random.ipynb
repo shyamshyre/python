{
 "metadata": {
  "language_info": {
   "codemirror_mode": {
    "name": "ipython",
    "version": 3
   },
   "file_extension": ".py",
   "mimetype": "text/x-python",
   "name": "python",
   "nbconvert_exporter": "python",
   "pygments_lexer": "ipython3",
   "version": "3.8.5-final"
  },
  "orig_nbformat": 2,
  "kernelspec": {
   "name": "python3",
   "display_name": "Python 3.8.5 64-bit ('base': conda)",
   "metadata": {
    "interpreter": {
     "hash": "e02d16100795d78ef74384fd3a0524a9dbb311e06929463966dbab0d3fde9986"
    }
   }
  }
 },
 "nbformat": 4,
 "nbformat_minor": 2,
 "cells": [
  {
   "cell_type": "code",
   "execution_count": null,
   "metadata": {},
   "outputs": [],
   "source": [
    "# random() used to generate the random float number between 0 and 1 but not 0 and1\n",
    "from random import *\n",
    "print(random())\n",
    "for i in range(11):\n",
    "    print(random())\n"
   ]
  },
  {
   "cell_type": "code",
   "execution_count": null,
   "metadata": {},
   "outputs": [],
   "source": [
    "# uniform() used to generate the float value between the given numbers (begin index, end index)\n",
    "\n",
    "\n",
    "print(uniform(1,5))\n",
    "\n",
    "for i in range(11):\n",
    "    print(uniform(1,11))"
   ]
  },
  {
   "cell_type": "code",
   "execution_count": null,
   "metadata": {},
   "outputs": [],
   "source": [
    "# randint()  used to generate random integer numbers between begin and end index\n",
    "print(randint(1,5))\n"
   ]
  },
  {
   "cell_type": "code",
   "execution_count": null,
   "metadata": {},
   "outputs": [],
   "source": [
    "# randrange() generated random int number between the begin and end index-1\n",
    "# it has even step value\n",
    "print(randrange(5))\n",
    "for i in range(10):\n",
    "    print(randrange(1,5))"
   ]
  },
  {
   "cell_type": "code",
   "execution_count": null,
   "metadata": {},
   "outputs": [],
   "source": [
    "# choice() used for generating a random element from the given sequence\n",
    "# Note:: the sequence should be indexable list,string,tuple but not set or dictionary\n",
    "l=[10,20,30,40,50,\"shyam\"] \n",
    "print(choice(l))\n",
    "for i in range(10):\n",
    "    print(choice(l))"
   ]
  },
  {
   "cell_type": "code",
   "execution_count": null,
   "metadata": {},
   "outputs": [],
   "source": [
    "# WAP to generate random 6 digit OTP\n",
    "\n",
    "for i in range(6):\n",
    "    print(randint(0,9),end=\" \")\n",
    "\n"
   ]
  },
  {
   "cell_type": "code",
   "execution_count": null,
   "metadata": {},
   "outputs": [],
   "source": [
    "result=\"\"\n",
    "for i in range(6):\n",
    "    result+= str(randint(0,9))+\" \"\n",
    "print(\"OTP \"+result)\n",
    "\n"
   ]
  },
  {
   "cell_type": "code",
   "execution_count": null,
   "metadata": {},
   "outputs": [],
   "source": [
    "from random import *\n",
    "# WAP to generate OTP where 1 3 5 characters are alphabets and 2,4,6 are digits\n",
    "finalresult=\"\"\n",
    "alphalist=[]\n",
    "# print(chr(65))\n",
    "for i in range(65,91):\n",
    "    alphalist.append(chr(i))\n",
    "for i in range(6):\n",
    "    if i%2==0:\n",
    "        finalresult+=str(randint(0,9))+\" \"\n",
    "    else:\n",
    "        finalresult+=str(choice(alphalist))+\" \"\n",
    "print(finalresult)\n",
    "        \n",
    "\n",
    "\n",
    "    "
   ]
  },
  {
   "cell_type": "code",
   "execution_count": 93,
   "metadata": {
    "tags": []
   },
   "outputs": [
    {
     "output_type": "stream",
     "name": "stdout",
     "text": [
      "['Btaih, e-01212, 26394.710588355458, ', 'Btaihnmr, e-0121201131, 43450.20590622401, ']\n"
     ]
    }
   ],
   "source": [
    "# Fake data for employee testing\n",
    "# 1) 3 to 10 digit employee name\n",
    "# 2) empname , first letter should be capital.\n",
    "# 3) employee number , should be startig with e-4digit number\n",
    "# 4) employee sal should be float value between 10000 to 50000\n",
    "\n",
    "from random import *\n",
    "employeedata=[]\n",
    "alphalist=[]\n",
    "empname=\"\"\n",
    "emmpnumber=\"\"\n",
    "emmpsal=0.0\n",
    "counter=0\n",
    "employeeinfo=[]\n",
    "finalresult=\"\"\n",
    "cities=[\"Delhi\",\"Hyderabad\",\"Chennai\",\"Kolkatta\"]\n",
    "designation=[\"Sr.Engineer\",\"DevOPS\",\"UnEmployee\",\"AWSArchitect\"]\n",
    "for employees in range(0,2):\n",
    "    for i in range(65,91):\n",
    "        alphalist.append(chr(i))\n",
    "    namelen= randrange(3,11)\n",
    "    for j in range(namelen):\n",
    "        empname+=choice(alphalist)\n",
    "    # employeedata.append(empname.capitalize())\n",
    "    finalresult+=empname.capitalize()+\",\"+\" \"\n",
    "    for k in range(5):\n",
    "        emmpnumber+=str(randint(0,k))\n",
    "    # employeedata.append(\"e-\"+str(emmpnumber))\n",
    "    finalresult+=\"e-\"+str(emmpnumber)+\",\"+\" \"\n",
    "    emmpsal=uniform(10000,50000)\n",
    "    finalresult+=str(emmpsal)+\",\"+\" \"\n",
    "    city = choice(cities)\n",
    "    finalresult+=city\n",
    "    designation = choice(designation)\n",
    "    finalresult+= designation  \n",
    "    employeedata.append(finalresult)\n",
    "    finalresult=\"\"\n",
    "    \n",
    "\n",
    "print(employeedata)\n"
   ]
  },
  {
   "cell_type": "code",
   "execution_count": null,
   "metadata": {},
   "outputs": [],
   "source": []
  },
  {
   "cell_type": "code",
   "execution_count": null,
   "metadata": {},
   "outputs": [],
   "source": []
  }
 ]
}