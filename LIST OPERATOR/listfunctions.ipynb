{
 "metadata": {
  "language_info": {
   "codemirror_mode": {
    "name": "ipython",
    "version": 3
   },
   "file_extension": ".py",
   "mimetype": "text/x-python",
   "name": "python",
   "nbconvert_exporter": "python",
   "pygments_lexer": "ipython3",
   "version": "3.8.3-final"
  },
  "orig_nbformat": 2,
  "kernelspec": {
   "name": "python3",
   "display_name": "Python 3.8.3 64-bit",
   "metadata": {
    "interpreter": {
     "hash": "0adcc2737ebf6a4a119f135174df96668767fca1ef1112612db5ecadf2b6d608"
    }
   }
  }
 },
 "nbformat": 4,
 "nbformat_minor": 2,
 "cells": [
  {
   "cell_type": "code",
   "execution_count": 54,
   "metadata": {},
   "outputs": [
    {
     "output_type": "stream",
     "name": "stdout",
     "text": [
      "<class 'list'>\n",
      "['W', 'e', 'l', 'c', 'o', 'm', 'e']\n",
      "['Welcome', 'to', 'programming', 'world']\n",
      "[10,20,30,40]\n",
      "<class 'str'>\n",
      "<class 'list'>\n",
      "[0, 1, 2, 3, 4, 5, 6, 7, 8, 9]\n",
      "<class 'list'>\n"
     ]
    }
   ],
   "source": [
    "# List is a sequence or it can be phrased as the collection.\n",
    "# We can add muliple items in the sequence.\n",
    "# List is ordered.\n",
    "# List allows duplicates.\n",
    "# List allows heterogeneous collection of items.\n",
    "# List is mutable.\n",
    "\n",
    "# 1) Defining the Empty List:\n",
    "l=[]\n",
    "\n",
    "# 2) We can convert various datatypes to list using list function.\n",
    "l=list([10,20,30])\n",
    "print(type(l))\n",
    "\n",
    "s=\"Welcome\"\n",
    "ls=list(s)\n",
    "print(ls)\n",
    "\n",
    "l= range(0,10)\n",
    "l1= list(l)\n",
    "print(l1)\n",
    "print(type(l1))\n",
    "\n",
    "# 3) Defining the list using split which always in turn returns a list.\n",
    "s=\"Welcome to programming world\"\n",
    "sl= s.split(\" \")\n",
    "print(sl)\n",
    "\n",
    "# 4) Defining the dynamic list using input.\n",
    "s = input(\"Enter the string\")\n",
    "print(s)\n",
    "print(type(s))\n",
    "\n",
    "# By using eval() the same input which accepts string could be converted to string.\n",
    "\n",
    "s = eval(input(\"Enter the string\"))\n",
    "print(type(s))\n",
    "\n",
    "\n",
    "\n",
    "\n",
    "\n",
    "\n"
   ]
  },
  {
   "cell_type": "code",
   "execution_count": 21,
   "metadata": {},
   "outputs": [
    {
     "output_type": "stream",
     "name": "stdout",
     "text": [
      "[10, 20, 30, 40, 50, 60]\n"
     ]
    }
   ],
   "source": [
    "# Arithmetic operators on list\n",
    "\n",
    "# Following are the list of arithmetic operators that can be performed over the list.\n",
    "# 1) + Concatenation Operator.\n",
    "# 2) * Repetiton Operator\n",
    "\n",
    "l1=[10,20,30]\n",
    "l2=[40,50,60]\n",
    "l3=l1+l2\n",
    "print(l3)"
   ]
  },
  {
   "cell_type": "code",
   "execution_count": 29,
   "metadata": {},
   "outputs": [
    {
     "output_type": "stream",
     "name": "stdout",
     "text": [
      "[10, 20, 30, 10, 20, 30]\n[10, 20, 30, 10, 20, 30, 10, 20, 30]\n"
     ]
    }
   ],
   "source": [
    "# Repeatition Operator on the list is as same as string.\n",
    "# list * <<int>>\n",
    "\n",
    "l=[10,20,30]* 2\n",
    "print(l)\n",
    "\n",
    "l= 3 * [10,20,30]\n",
    "print(l)"
   ]
  },
  {
   "cell_type": "code",
   "execution_count": 34,
   "metadata": {},
   "outputs": [
    {
     "output_type": "stream",
     "name": "stdout",
     "text": [
      "[10, 20, 30, 40, 50, 60, 70, 80, 90, 100]\n[]\n[100, 90, 80, 70, 60, 50, 40, 30, 20]\n"
     ]
    }
   ],
   "source": [
    "# Splice Operator on the List.\n",
    "# the split performs in the same way that it works over the string.\n",
    "# In the forward direction the principal is [o to end index-1]\n",
    "# In the backward direction the principal is [end to begin index+1]\n",
    "# in forward direction if the end index is 0 then it returns [] empty\n",
    "# in backward direction if the end index is -1 then it returns [] empty\n",
    "\n",
    "s=[10,20,30,40,50,60,70,80,90,100]\n",
    "print(s[0::])\n",
    "print(s[1:0])\n",
    "print(s[10:0:-1])\n",
    "\n"
   ]
  },
  {
   "cell_type": "code",
   "execution_count": 37,
   "metadata": {},
   "outputs": [
    {
     "output_type": "error",
     "ename": "AttributeError",
     "evalue": "'list' object has no attribute 'split'",
     "traceback": [
      "\u001b[0;31m---------------------------------------------------------------------------\u001b[0m",
      "\u001b[0;31mAttributeError\u001b[0m                            Traceback (most recent call last)",
      "\u001b[0;32m<ipython-input-37-9566b7c8cef6>\u001b[0m in \u001b[0;36m<module>\u001b[0;34m\u001b[0m\n\u001b[1;32m      1\u001b[0m \u001b[0ml1\u001b[0m \u001b[0;34m=\u001b[0m\u001b[0;34m[\u001b[0m\u001b[0;36m10\u001b[0m\u001b[0;34m,\u001b[0m\u001b[0;36m20\u001b[0m\u001b[0;34m,\u001b[0m\u001b[0;36m30\u001b[0m\u001b[0;34m,\u001b[0m\u001b[0;36m40\u001b[0m\u001b[0;34m,\u001b[0m\u001b[0;36m50\u001b[0m\u001b[0;34m]\u001b[0m\u001b[0;34m\u001b[0m\u001b[0;34m\u001b[0m\u001b[0m\n\u001b[0;32m----> 2\u001b[0;31m \u001b[0ml2\u001b[0m \u001b[0;34m=\u001b[0m\u001b[0ml1\u001b[0m\u001b[0;34m.\u001b[0m\u001b[0msplit\u001b[0m\u001b[0;34m(\u001b[0m\u001b[0;34m\" \"\u001b[0m\u001b[0;34m)\u001b[0m\u001b[0;34m\u001b[0m\u001b[0;34m\u001b[0m\u001b[0m\n\u001b[0m\u001b[1;32m      3\u001b[0m \u001b[0mprint\u001b[0m\u001b[0;34m(\u001b[0m\u001b[0ml2\u001b[0m\u001b[0;34m)\u001b[0m\u001b[0;34m\u001b[0m\u001b[0;34m\u001b[0m\u001b[0m\n",
      "\u001b[0;31mAttributeError\u001b[0m: 'list' object has no attribute 'split'"
     ]
    }
   ],
   "source": [
    "l1 =[10,20,30,40,50]\n",
    "l2 =l1.split(\" \")\n",
    "print(l2)"
   ]
  },
  {
   "cell_type": "code",
   "execution_count": 42,
   "metadata": {},
   "outputs": [
    {
     "output_type": "stream",
     "name": "stdout",
     "text": [
      "True\nTrue\nFalse\nFalse\n"
     ]
    }
   ],
   "source": [
    "# Equality operators on the List.\n",
    "# == , !=\n",
    "\n",
    "l1=[10,20,30,40,50]\n",
    "l2=[10,20,30,40,50]\n",
    "print(l1==l2)\n",
    "# Equality conditions.\n",
    "# 1) it checks whether the total numbers in the both of them are same are not.\n",
    "# 2) It checks whether the elements inside of the list are same or not.\n",
    "# 2) It checks whether the elements inside of the list are of same case or not.\n",
    "\n",
    "l1= ['India', 'is','great']\n",
    "l2= ['India', 'is','great']\n",
    "l3= ['india', 'is','great']\n",
    "l4= ['india', 'is','great', 'country']\n",
    "print(l1==l2)\n",
    "print(l1==l3)\n",
    "print(l1==l4)\n",
    "\n",
    "# != works oppostite to ==\n"
   ]
  },
  {
   "cell_type": "code",
   "execution_count": 47,
   "metadata": {},
   "outputs": [
    {
     "output_type": "stream",
     "name": "stdout",
     "text": [
      "False\nFalse\nTrue\nTrue\n"
     ]
    }
   ],
   "source": [
    "# Relational operators on the list\n",
    "# <, <= , > ,>=\n",
    "\n",
    "l1=[10,20,30,40,50]\n",
    "l2=[10,20,30,40,50]\n",
    "# print(l1==l2)\n",
    "# Equality conditions.\n",
    "# it checks whether the first element in the list  \"l1\" is greater or lesser to \"l2\" and provides the result .\n",
    "# if the elements inside the both the lists are equal then it checks the next character , even if the next one also holds same value then it moves to the next index, till the result is identified.\n",
    "\n",
    "# print(l1 < l2)\n",
    "# print(l1<=l2)\n",
    "# print(l1>l2)\n",
    "# print(l1>=l2)\n",
    "\n",
    "l1=[50,20,30,40,50]\n",
    "l2=[60,20,30,40,50]\n",
    "\n",
    "# print(l1 < l2)\n",
    "# print(l1<=l2)\n",
    "# print(l1>l2)\n",
    "# print(l1>=l2)\n",
    "\n",
    "\n",
    "l1=[10,20,30,40,50,60]\n",
    "l2=[10,20,30,40,50,40]\n",
    "\n",
    "print(l1 < l2)\n",
    "print(l1<=l2)\n",
    "print(l1>l2)\n",
    "print(l1>=l2)\n"
   ]
  },
  {
   "cell_type": "code",
   "execution_count": 50,
   "metadata": {},
   "outputs": [
    {
     "output_type": "stream",
     "name": "stdout",
     "text": [
      "140339002271104\n140339002304192\nFalse\n"
     ]
    }
   ],
   "source": [
    "# Membership operators\n",
    "\n",
    "# l1=[50,20,30,40,50]\n",
    "# l2=[60,20,30,40,50]\n",
    "\n",
    "# print(l1 is l2)\n",
    "\n",
    "l1=[10,20,30,40,50]\n",
    "l2=[10,20,30,40,50]\n",
    "\n",
    "print(id(l1))\n",
    "print(id(l2))\n",
    "\n",
    "print(l1 is l2)\n"
   ]
  },
  {
   "cell_type": "code",
   "execution_count": 52,
   "metadata": {},
   "outputs": [
    {
     "output_type": "stream",
     "name": "stdout",
     "text": [
      "140338191911040\n140338191911040\n"
     ]
    }
   ],
   "source": [
    "# l1= [10,20,30,40]\n",
    "# print(id(l1))\n",
    "# l1[0]=23\n",
    "# print(id(l1))\n",
    "\n",
    "# As the list is mutable, theough there is change in the value the address remains same."
   ]
  },
  {
   "cell_type": "code",
   "execution_count": 53,
   "metadata": {},
   "outputs": [
    {
     "output_type": "stream",
     "name": "stdout",
     "text": [
      "True\nFalse\n"
     ]
    }
   ],
   "source": [
    "# Identity Operator\n",
    "l1=[10,20,30,40,50]\n",
    "print(10 in l1)\n",
    "print(10 not in l1)"
   ]
  },
  {
   "cell_type": "code",
   "execution_count": 62,
   "metadata": {},
   "outputs": [
    {
     "output_type": "stream",
     "name": "stdout",
     "text": [
      "4\nSorted List is [10, 30, 40, 60]\n1\n[10, 60, 30, 40, 50]\n"
     ]
    }
   ],
   "source": [
    "# python important functions while using list\n",
    "\n",
    "# 1) len    --> Returns the length of the List(python function)\n",
    "# 2) sorted --> Returns the sorted list (python function)\n",
    "# 3) count  --> inbuilt function of List\n",
    "# 4) index  --> inbuilt function of List\n",
    "\n",
    "\n",
    "l= [10,60,30,40]\n",
    "print(len(l))\n",
    "print(\"Sorted List is {}\".format(sorted(l)))\n",
    "\n",
    "# Returns the number of occurences of the given element.\n",
    "print(l.count(10))\n",
    "\n",
    "# Returns the index positon of the specified element\n",
    "print(l.index(10))\n",
    "\n",
    "\n",
    "# len,sorted are called on top of list , so its a generalized python function.\n",
    "l.append(50)\n",
    "# append is inbuilt function for list.\n",
    "print(l)"
   ]
  },
  {
   "cell_type": "code",
   "execution_count": 93,
   "metadata": {},
   "outputs": [
    {
     "output_type": "stream",
     "name": "stdout",
     "text": [
      " Index of the input element is 1\n"
     ]
    }
   ],
   "source": [
    "# WAp to print the index postion of the elemnt in the provided list.\n",
    "l=[10,20,30,40,50,60]\n",
    "eidx= int(input(\"Enter the number of your choice from the above array\"))\n",
    "if eidx in l:\n",
    "    print(\" Index of the input element is {}\".format(l.index(eidx)))\n",
    "else:\n",
    "    print(\"Sorry number doesnt exist\")"
   ]
  },
  {
   "cell_type": "code",
   "execution_count": 92,
   "metadata": {},
   "outputs": [
    {
     "output_type": "stream",
     "name": "stdout",
     "text": [
      "[10, 20, 30, [40, 50, 60]]\n4\nThe length of l1 is 4\n[40, 50, 60, 70, 80, 90]\nThe length of l2 is 6\n"
     ]
    }
   ],
   "source": [
    "# Manipulating elements of the String\n",
    "# append() => To add item to the end of the List\n",
    "# insert() => Insert element at the specific poistion of the List\n",
    "# extend() => To add all elements of the given sequence to the list.\n",
    "\n",
    "\n",
    "# adding elements to the list\n",
    "# l1=[10,20,30]\n",
    "# l2=[40,50,60]\n",
    "# l3=[70,80,90]\n",
    "# 1) append : Adds element at the end of the list.\n",
    "# 2) insert: Adds element to the list at the specified position.\n",
    "    #  if the required value to be at the index which is not available between the start and end index (forward & backward) (0,-1).\n",
    "    #  then the value would be added at the begining or ending of the list.\n",
    "    #     -4    -3    -2   -1       \n",
    "    #  l=[10, 20, 30,40]\n",
    "    #      0   1   2  3     \n",
    "    #  ex:list.insert(1,-200)  \n",
    "    #  Here the -200 index doesnt exist as the range is from (-4 to 3)\n",
    "    #  So the element 1 would be inserted at the begining.\n",
    "    #  ex:list.insert(1,200)  \n",
    "    #  Here the 200 index doesnt exist as the range is from (-4 to 3)\n",
    "    #  So the element 1 would be inserted at the end.\n",
    "    #  In append if we are adding array (l2) then it considers it as one element\n",
    "    # Output::10, 20, 30, [40, 50, 60]]\n",
    "# 3) extend() : Used to add the array of elements to the list like an individual element.\n",
    "    # Output:: [40, 50, 60, 70, 80, 90] \n",
    "    # Here every element is treated as the sequence\n",
    "    # In append if we are adding array (l2) then it considers it as one element\n",
    "\n",
    "     \n",
    "# l=[10]\n",
    "# l.append(20)\n",
    "# l.append(30)\n",
    "# print(l)\n",
    "\n",
    "l1=[10,20,30]\n",
    "l2=[40,50,60]\n",
    "l3=[70,80,90]\n",
    "\n",
    "l1.append(l2)\n",
    "print(l1)\n",
    "print(len(l1))\n",
    "print(\"The length of l1 is {}\".format(len(l1)))\n",
    "# Output::10, 20, 30, [40, 50, 60]]\n",
    "# Note::***************************************\n",
    "# append is treating the added array as the single element\n",
    "# Note::***************************************\n",
    "\n",
    "l2.extend(l3)\n",
    "print(l2)\n",
    "print(\"The length of l2 is {}\".format(len(l2)))\n",
    "# Output:: [40, 50, 60, 70, 80, 90]\n",
    "# Note::***************************************\n",
    "# extend() is treating the l2 as the 3 elements\n",
    "# Here every element is treated as the sequence\n",
    "# Note::***************************************\n",
    "# All the elements in l2 will be added to l1\n",
    "# Answer:: None\n"
   ]
  },
  {
   "cell_type": "code",
   "execution_count": 71,
   "metadata": {},
   "outputs": [
    {
     "output_type": "stream",
     "name": "stdout",
     "text": [
      "[10, 20, 30, 40, 50, 60, 70, 80, 90]\n"
     ]
    }
   ],
   "source": [
    "# WAP to add element to the list which are divisble by 10 between 1 to 100\n",
    "l1=[]\n",
    "for i in range(1,100):\n",
    "    if(i%10==0):\n",
    "        l1.append(i)\n",
    "print(l1)\n",
    "\n"
   ]
  },
  {
   "cell_type": "code",
   "execution_count": 78,
   "metadata": {},
   "outputs": [
    {
     "output_type": "stream",
     "name": "stdout",
     "text": [
      "[5, 10, 20, 25, 30, 40, 50, 60]\n"
     ]
    }
   ],
   "source": [
    "l=[10,20,30,40,50]\n",
    "l.insert(2,25)\n",
    "\n",
    "l.insert(200,60)\n",
    "# 200 index doesnt exist so its added at the end.\n",
    "l.insert(-100,5)\n",
    "# -100 index doesnt exist so its added at the begining.\n",
    "print(l)"
   ]
  },
  {
   "cell_type": "code",
   "execution_count": 96,
   "metadata": {},
   "outputs": [
    {
     "output_type": "stream",
     "name": "stdout",
     "text": [
      "[10, 20, 30, 'ABC']\n[10, 20, 30, 'ABC', 'A', 'B', 'C']\n"
     ]
    }
   ],
   "source": [
    "l1=[10,20,30]\n",
    "l2=(\"ABC\")\n",
    "# Append always treats as the single element\n",
    "l1.append(l2)\n",
    "Output:: [10,20,30,'ABC']\n",
    "\n",
    "print(l1)\n",
    "l1.extend(l2)\n",
    "Output:: [10,20,30,'ABC','A','B','C']\n",
    "# extend always treats as the individual elements.\n",
    "print(l1)\n",
    "\n"
   ]
  },
  {
   "cell_type": "code",
   "execution_count": null,
   "metadata": {},
   "outputs": [],
   "source": []
  }
 ]
}