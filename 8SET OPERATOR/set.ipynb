{
 "metadata": {
  "language_info": {
   "codemirror_mode": {
    "name": "ipython",
    "version": 3
   },
   "file_extension": ".py",
   "mimetype": "text/x-python",
   "name": "python",
   "nbconvert_exporter": "python",
   "pygments_lexer": "ipython3",
   "version": "3.8.3-final"
  },
  "orig_nbformat": 2,
  "kernelspec": {
   "name": "python3",
   "display_name": "Python 3.8.3 64-bit",
   "metadata": {
    "interpreter": {
     "hash": "0adcc2737ebf6a4a119f135174df96668767fca1ef1112612db5ecadf2b6d608"
    }
   }
  }
 },
 "nbformat": 4,
 "nbformat_minor": 2,
 "cells": [
  {
   "cell_type": "code",
   "execution_count": null,
   "metadata": {},
   "outputs": [],
   "source": [
    "# if we want to represent a group of unique values as a single entity then we should go\n",
    "# for set.\n",
    "# Duplicates are not allowed.\n",
    "# Insertion order is not preserved.But we can sort the elements.\n",
    "# Indexing and slicing not allowed for the set.\n",
    "# Heterogeneous elements are allowed.\n",
    "# Set objects are mutable i.e once we creates set object we can perform any changes in\n",
    "# that object based on our requirement.\n",
    "# We can represent set elements within curly braces and with comma seperation\n",
    "# We can apply mathematical operations like union, intersection, difference etc on set\n",
    "# objects.\n",
    "\n",
    "s={10,70,30,20,50}\n",
    "print(sorted(s))\n",
    "\n",
    "l = list(range(0,10))\n",
    "print(type(l))\n",
    "\n",
    "l = set(range(0,10))\n",
    "print(type(l))\n",
    "\n",
    "for i in l:\n",
    "    print(i)\n",
    "\n",
    "\n",
    "# Note:: Empty set is considered as the Dict, so we need to convert to set type if not it would be considerd as dict"
   ]
  },
  {
   "cell_type": "code",
   "execution_count": 1,
   "metadata": {},
   "outputs": [
    {
     "output_type": "stream",
     "name": "stdout",
     "text": [
      "<class 'set'>\n{0, 40, 20, 30}\n{0, 'D1', 'A', 'A1', 40, 20, 'B', 'C1', 'D', 'B1', 'C', 30}\n"
     ]
    }
   ],
   "source": [
    "s1={0,20,30}\n",
    "print(type(s1))\n",
    "s1.add(40)\n",
    "# add() is used to insert the elements into the set\n",
    "print(s1)\n",
    "l1=['A','B','C','D']\n",
    "l2=['A1','B1','C1','D1']\n",
    "s1.update(l1,l2)\n",
    "print(s1)"
   ]
  },
  {
   "cell_type": "code",
   "execution_count": null,
   "metadata": {},
   "outputs": [],
   "source": [
    "s1={0,20,30}\n",
    "# no indexing\n",
    "# no slicing\n",
    "# print(s[0])\n",
    "# print(s[0::])"
   ]
  },
  {
   "cell_type": "code",
   "execution_count": null,
   "metadata": {},
   "outputs": [],
   "source": [
    "# Difference between add and update\n",
    "# add() : can be used for adding elment , but only one element\n",
    "# add() : takes only one element as the input\n",
    "# update() :can be used for adding sequences\n",
    "# update(): takes multiple sequences as the input.\n",
    "\n",
    "\n"
   ]
  },
  {
   "cell_type": "code",
   "execution_count": null,
   "metadata": {},
   "outputs": [],
   "source": [
    "# Copy /cloning\n",
    "s = {10,20,30,40}\n",
    "s1=s\n",
    "s2={}\n",
    "print(id(s))\n",
    "print(id(s1))\n",
    "\n",
    "s2=s1.copy()\n",
    "# s2 has the copied content\n",
    "print(s2)\n",
    "print(id(s2))\n"
   ]
  },
  {
   "cell_type": "code",
   "execution_count": null,
   "metadata": {},
   "outputs": [],
   "source": [
    "# REmoving the element\n",
    "# if element doesnt exist we get keyerror in the case of remove or pop\n",
    "# pop() removes any element(random) in the set and returns that value.\n",
    "# Try to remove element from the empty set we get KeyError\n",
    "\n",
    "s = {10,20,30,40}\n",
    "# print(s.pop())\n",
    "# print(s.pop())\n",
    "# print(s.pop())\n",
    "# print(s.pop())\n",
    "# print(s.pop())\n",
    "# s.remove(10)\n",
    "# s.remove(10)\n",
    "# s.remove(60)\n",
    "print(s)\n",
    "\n",
    "s.discard(10)\n",
    "print(s)\n",
    "s.discard(60)\n",
    "# Note:: Discard: Doest throw any error even if the element doesnt exist. no such errors are thrown.\n",
    "\n",
    "\n",
    "\n",
    "# clear() :: Removes all the elements from the set.\n",
    "s.clear()\n",
    "print(s)"
   ]
  },
  {
   "cell_type": "code",
   "execution_count": null,
   "metadata": {},
   "outputs": [],
   "source": [
    "# Union: used to return elments in both the sets\n",
    "\n",
    "l1={10,20,30}\n",
    "l2={40,50,60}\n",
    "print(l1.union(l2))\n",
    "print(l1|l2)"
   ]
  },
  {
   "cell_type": "code",
   "execution_count": null,
   "metadata": {},
   "outputs": [],
   "source": [
    "# intersection: Fetches the common elements in the both the sets.\n",
    "l1={10,20,30}\n",
    "l2={10,40,50,60}\n",
    "print(l1.intersection(l2))"
   ]
  },
  {
   "cell_type": "code",
   "execution_count": null,
   "metadata": {},
   "outputs": [],
   "source": [
    "# difference (x-y)\n",
    "# returns the element in x but not in y\n",
    "\n",
    "l1={10,20,30}\n",
    "l2={10,40,50,60}\n",
    "print(l1-l2)"
   ]
  },
  {
   "cell_type": "code",
   "execution_count": null,
   "metadata": {},
   "outputs": [],
   "source": [
    "# symmetric difference\n",
    "# Returns the elements in x , y but not in both (opposite of intersection)\n",
    "\n",
    "l1={10,20,30}\n",
    "l2={10,40,50,60}\n",
    "print(l1.symmetric_difference(l2))\n",
    "\n",
    "\n",
    "l1={'A','B','C'}\n",
    "l2={'C','D','A'}\n",
    "print(l1.symmetric_difference(l2))"
   ]
  },
  {
   "cell_type": "code",
   "execution_count": null,
   "metadata": {},
   "outputs": [],
   "source": [
    "# Membership operators\n",
    "s={10,20,30,40,50}\n",
    "print(10 in s)\n",
    "print(10 not in s)\n"
   ]
  },
  {
   "cell_type": "code",
   "execution_count": null,
   "metadata": {},
   "outputs": [],
   "source": [
    "# Set Comprehension\n",
    "l1={10,20,30}\n",
    "l2={40,50,10,20}\n",
    "l3={70,90,10,20}\n",
    "s1={i for i in l1 if i not in l2   if i not in l2}\n",
    "print(s1)"
   ]
  },
  {
   "cell_type": "code",
   "execution_count": 98,
   "metadata": {},
   "outputs": [
    {
     "output_type": "stream",
     "name": "stdout",
     "text": [
      "{'o', 'e'}\n"
     ]
    }
   ],
   "source": [
    "\n",
    "s1=\"aWelometoPythonWorld\"\n",
    "vowels=['a','e','i','o','u']\n",
    "l2={i for i in s1 if i in vowels if i not in l2}\n",
    "print(l2)"
   ]
  },
  {
   "cell_type": "code",
   "execution_count": 103,
   "metadata": {},
   "outputs": [
    {
     "output_type": "stream",
     "name": "stdout",
     "text": [
      "{'', '********', '**', '******', '****'}\n"
     ]
    }
   ],
   "source": [
    "\n",
    "s1={'*'*i for i in range(10) if i%2==0}\n",
    "print(s1)"
   ]
  },
  {
   "cell_type": "code",
   "execution_count": 115,
   "metadata": {},
   "outputs": [
    {
     "output_type": "stream",
     "name": "stdout",
     "text": [
      "{'a', 'e'}\n"
     ]
    }
   ],
   "source": [
    "# WAP to print vowels present in the given input\n",
    "\n",
    "s = input(\"Enter the input string\")\n",
    "s1= set(s)\n",
    "vowels={'a','e','i','o','u'}\n",
    "print(s1.intersection(vowels))\n",
    "\n",
    "\n",
    "\n"
   ]
  },
  {
   "cell_type": "code",
   "execution_count": null,
   "metadata": {},
   "outputs": [],
   "source": []
  }
 ]
}