{
 "metadata": {
  "language_info": {
   "codemirror_mode": {
    "name": "ipython",
    "version": 3
   },
   "file_extension": ".py",
   "mimetype": "text/x-python",
   "name": "python",
   "nbconvert_exporter": "python",
   "pygments_lexer": "ipython3",
   "version": "3.8.3-final"
  },
  "orig_nbformat": 2,
  "kernelspec": {
   "name": "python3",
   "display_name": "Python 3.8.3 64-bit",
   "metadata": {
    "interpreter": {
     "hash": "0adcc2737ebf6a4a119f135174df96668767fca1ef1112612db5ecadf2b6d608"
    }
   }
  }
 },
 "nbformat": 4,
 "nbformat_minor": 2,
 "cells": [
  {
   "cell_type": "code",
   "execution_count": 3,
   "metadata": {},
   "outputs": [
    {
     "output_type": "stream",
     "name": "stdout",
     "text": [
      "(10, 20, 30, 40, 50)\n<class 'tuple'>\n"
     ]
    },
    {
     "output_type": "error",
     "ename": "AttributeError",
     "evalue": "'tuple' object has no attribute 'insert'",
     "traceback": [
      "\u001b[0;31m---------------------------------------------------------------------------\u001b[0m",
      "\u001b[0;31mAttributeError\u001b[0m                            Traceback (most recent call last)",
      "\u001b[0;32m<ipython-input-3-70f16c7643aa>\u001b[0m in \u001b[0;36m<module>\u001b[0;34m\u001b[0m\n\u001b[1;32m      8\u001b[0m \u001b[0mprint\u001b[0m\u001b[0;34m(\u001b[0m\u001b[0mtype\u001b[0m\u001b[0;34m(\u001b[0m\u001b[0mt\u001b[0m\u001b[0;34m)\u001b[0m\u001b[0;34m)\u001b[0m\u001b[0;34m\u001b[0m\u001b[0;34m\u001b[0m\u001b[0m\n\u001b[1;32m      9\u001b[0m \u001b[0;34m\u001b[0m\u001b[0m\n\u001b[0;32m---> 10\u001b[0;31m \u001b[0mt\u001b[0m\u001b[0;34m.\u001b[0m\u001b[0minsert\u001b[0m\u001b[0;34m(\u001b[0m\u001b[0;36m6\u001b[0m\u001b[0;34m,\u001b[0m\u001b[0;36m60\u001b[0m\u001b[0;34m)\u001b[0m\u001b[0;34m\u001b[0m\u001b[0;34m\u001b[0m\u001b[0m\n\u001b[0m",
      "\u001b[0;31mAttributeError\u001b[0m: 'tuple' object has no attribute 'insert'"
     ]
    }
   ],
   "source": [
    "# tuple is as same as list.\n",
    "# tuple is readaonly version of list.\n",
    "# tuple is defined by () paranthesis\n",
    "# if we want to use list and our objective is not change the elements inside it then we go for tuple.\n",
    "\n",
    "t = (10,20,30,40,50)\n",
    "print(t)\n",
    "print(type(t))\n",
    "\n",
    "t.insert(6,60)\n"
   ]
  },
  {
   "cell_type": "code",
   "execution_count": 4,
   "metadata": {},
   "outputs": [
    {
     "output_type": "stream",
     "name": "stdout",
     "text": [
      "<class 'tuple'>\n<class 'int'>\n<class 'tuple'>\n<class 'tuple'>\n<class 'tuple'>\n"
     ]
    }
   ],
   "source": [
    "t=()\n",
    "t1=10\n",
    "t2=10,\n",
    "# There shoule be atleast one comma then it would considerd as the tuple\n",
    "t3=10,20,30,40\n",
    "t4=(10,20,30,40)\n",
    "print(type(t))\n",
    "print(type(t1))\n",
    "print(type(t2))\n",
    "print(type(t3))\n",
    "print(type(t4))\n"
   ]
  },
  {
   "cell_type": "code",
   "execution_count": 11,
   "metadata": {},
   "outputs": [
    {
     "output_type": "stream",
     "name": "stdout",
     "text": [
      "10\nABc\n(10, 20, 30, 40, 50, 'ABc')\n"
     ]
    },
    {
     "output_type": "error",
     "ename": "TypeError",
     "evalue": "'tuple' object does not support item assignment",
     "traceback": [
      "\u001b[0;31m---------------------------------------------------------------------------\u001b[0m",
      "\u001b[0;31mTypeError\u001b[0m                                 Traceback (most recent call last)",
      "\u001b[0;32m<ipython-input-11-e07edf400a3e>\u001b[0m in \u001b[0;36m<module>\u001b[0;34m\u001b[0m\n\u001b[1;32m     11\u001b[0m \u001b[0;34m\u001b[0m\u001b[0m\n\u001b[1;32m     12\u001b[0m \u001b[0;31m# 3) Tuple object are immutable we cannot change them\u001b[0m\u001b[0;34m\u001b[0m\u001b[0;34m\u001b[0m\u001b[0;34m\u001b[0m\u001b[0m\n\u001b[0;32m---> 13\u001b[0;31m \u001b[0mt\u001b[0m\u001b[0;34m[\u001b[0m\u001b[0;36m0\u001b[0m\u001b[0;34m]\u001b[0m\u001b[0;34m=\u001b[0m\u001b[0;36m189\u001b[0m\u001b[0;34m\u001b[0m\u001b[0;34m\u001b[0m\u001b[0m\n\u001b[0m\u001b[1;32m     14\u001b[0m \u001b[0;34m\u001b[0m\u001b[0m\n",
      "\u001b[0;31mTypeError\u001b[0m: 'tuple' object does not support item assignment"
     ]
    }
   ],
   "source": [
    "# 1) Accessing elements inside the tuple\n",
    "\n",
    "t=(10,20,30,40,50,\"ABc\")\n",
    "print(t[0])\n",
    "print(t[len(t)-1])\n",
    "\n",
    "# 2) By using slice operator.\n",
    "\n",
    "t1 = t[0:]\n",
    "print(t1)\n",
    "\n",
    "# 3) Tuple object are immutable we cannot change them\n",
    "t[0]=189\n",
    "\n",
    "\n",
    "\n"
   ]
  },
  {
   "cell_type": "code",
   "execution_count": null,
   "metadata": {},
   "outputs": [],
   "source": []
  },
  {
   "cell_type": "code",
   "execution_count": 14,
   "metadata": {},
   "outputs": [
    {
     "output_type": "stream",
     "name": "stdout",
     "text": [
      "(10, 20, 30, 40, 50, 'A', 'B', 'C')\n('A', 'B', 'C', 'A', 'B', 'C')\n(10, 20, 30, 40, 50, 10, 20, 30, 40, 50)\n"
     ]
    }
   ],
   "source": [
    "# Arithmetic operators for tuple\n",
    "t1=(10,20,30,40,50)\n",
    "t2=('A','B','C')\n",
    "t3=t1+t2\n",
    "print(t3)\n",
    "\n",
    "# * acts as repetion both integer and string case\n",
    "print(t2*2)\n",
    "print(t1*2)"
   ]
  },
  {
   "cell_type": "code",
   "execution_count": 18,
   "metadata": {},
   "outputs": [
    {
     "output_type": "stream",
     "name": "stdout",
     "text": [
      "True\nFalse\nFalse\n"
     ]
    }
   ],
   "source": [
    "# Equality Operators\n",
    "t1=(10,20,30,40,50)\n",
    "t2=(10,20,30,40,50)\n",
    "t3=('A','B','C')\n",
    "\n",
    "print(t1==t2)\n",
    "print(t1!=t2)\n",
    "print(t2 == t3)"
   ]
  },
  {
   "cell_type": "code",
   "execution_count": 25,
   "metadata": {},
   "outputs": [
    {
     "output_type": "stream",
     "name": "stdout",
     "text": [
      "True\nFalse\nTrue\n"
     ]
    }
   ],
   "source": [
    "# Comparison Operators <,<=,>,>=\n",
    "\n",
    "# t1=(10,20,30,40,50)\n",
    "# t2=(10,20,30,40,10)\n",
    "# print(t1<t2)\n",
    "# print(t1<=t2)\n",
    "# print(t1<=t2)\n",
    "# print(t1>t2)\n",
    "# print(t1>=t2)\n",
    "\n",
    "\n",
    "t3=('A','B','C')\n",
    "t4=('A','B','C')\n",
    "t5=('D','E','F')\n",
    "print(t3==t4)\n",
    "print(t3!=t4)\n",
    "print(t3<=t4)\n",
    "\n"
   ]
  },
  {
   "cell_type": "code",
   "execution_count": 40,
   "metadata": {},
   "outputs": [
    {
     "output_type": "stream",
     "name": "stdout",
     "text": [
      "True\n"
     ]
    }
   ],
   "source": [
    "# Important function of tuple\n",
    "# 1) len()\n",
    "t1=(10,20,30,40,50,10,10,20,30,40,50)\n",
    "t2=(10,20,30,40,50,10,10,20,30,40,50)\n",
    "l1=[10,20,30,40,50,10,10,20,30,40,50]\n",
    "# print(len(t1))\n",
    "\n",
    "# 2) index()\n",
    "# t1.index(20)\n",
    "\n",
    "# 3) count()\n",
    "# print(t1.count(10))\n",
    "\n",
    "# 4) sorted()\n",
    "\n",
    "# print(max(t1))\n",
    "# print(min(t1))\n",
    "\n",
    "# print(max(l1))\n",
    "# print(min(l1))\n",
    "\n",
    "\n"
   ]
  },
  {
   "cell_type": "code",
   "execution_count": 45,
   "metadata": {},
   "outputs": [
    {
     "output_type": "stream",
     "name": "stdout",
     "text": [
      "(10, 20, 30, 40)\n<class 'tuple'>\n10 20 30 40\n"
     ]
    }
   ],
   "source": [
    "\n",
    "# Tuple Packing and Unpacking\n",
    "a,b,c,d=10,20,30,40\n",
    "t=a,b,c,d\n",
    "print(t)\n",
    "print(type(t))\n",
    "# This is tuple packing\n",
    "t=(10,20,30,40)\n",
    "a,b,c,d=t\n",
    "print(a,b,c,d)\n",
    "# This is unpacking of a tuple\n"
   ]
  },
  {
   "cell_type": "code",
   "execution_count": 47,
   "metadata": {},
   "outputs": [
    {
     "output_type": "stream",
     "name": "stdout",
     "text": [
      "<generator object <genexpr> at 0x7fc4806d8270>\n0\n2\n4\n6\n8\n"
     ]
    }
   ],
   "source": [
    "# tuple comprehension\n",
    "t=( i for i in range(0,10) if i%2==0)\n",
    "# Here we are not getting tuple object, we are getting generator object\n",
    "print(t)\n",
    "# we need to traverse to get the elements inside the tuple\n",
    "for i in t:\n",
    "    print(i)\n"
   ]
  },
  {
   "cell_type": "code",
   "execution_count": 53,
   "metadata": {},
   "outputs": [
    {
     "output_type": "stream",
     "name": "stdout",
     "text": [
      "The total is 60\nThe average is 20.0\n"
     ]
    }
   ],
   "source": [
    "# WAP to take tuple of numbers as input and print sum and average\n",
    "t=(eval(input(\"Enter the tuple values\")))\n",
    "total=0\n",
    "for i in t:\n",
    "    total+=i\n",
    "print(\"The total is {}\".format(total))\n",
    "print(\"The average is {}\".format((total)/len(t)))\n",
    "\n"
   ]
  },
  {
   "cell_type": "code",
   "execution_count": null,
   "metadata": {},
   "outputs": [],
   "source": []
  }
 ]
}