{
 "metadata": {
  "language_info": {
   "codemirror_mode": {
    "name": "ipython",
    "version": 3
   },
   "file_extension": ".py",
   "mimetype": "text/x-python",
   "name": "python",
   "nbconvert_exporter": "python",
   "pygments_lexer": "ipython3",
   "version": "3.8.3-final"
  },
  "orig_nbformat": 2,
  "kernelspec": {
   "name": "python3",
   "display_name": "Python 3.8.3 64-bit",
   "metadata": {
    "interpreter": {
     "hash": "0adcc2737ebf6a4a119f135174df96668767fca1ef1112612db5ecadf2b6d608"
    }
   }
  }
 },
 "nbformat": 4,
 "nbformat_minor": 2,
 "cells": [
  {
   "cell_type": "code",
   "execution_count": 2,
   "metadata": {},
   "outputs": [
    {
     "output_type": "stream",
     "name": "stdout",
     "text": [
      "a\nb\nc\nd\n"
     ]
    }
   ],
   "source": [
    "# Synatx :: split(<<character>>) returns the resultant in the  list format\n",
    "# the default seperator is the ' '\n",
    "# if other tham ' ' then we need to provide the seperator\n",
    "s=\"a,b,c,d\"\n",
    "res = s.split(\",\") \n",
    "for i in res:\n",
    "    print(i)\n"
   ]
  },
  {
   "cell_type": "code",
   "execution_count": 3,
   "metadata": {},
   "outputs": [
    {
     "output_type": "stream",
     "name": "stdout",
     "text": [
      "14\n02\n2019\n"
     ]
    }
   ],
   "source": [
    "d=\"14-02-2019\"\n",
    "d1= d.split(\"-\")\n",
    "for i in d1:\n",
    "    print(i)"
   ]
  },
  {
   "cell_type": "code",
   "execution_count": 19,
   "metadata": {},
   "outputs": [
    {
     "output_type": "stream",
     "name": "stdout",
     "text": [
      "india!is!my!country\n"
     ]
    }
   ],
   "source": [
    "# Joining of the String\n",
    "# if we have elements inside the list and we want all of them to join by the seperator then we use join\n",
    "l=['india','is','my','country']\n",
    "# Syntax:: <<seperator>>.join(<<input>>)\n",
    "res = '!'.join(l)\n",
    "print(res)\n",
    "\n"
   ]
  },
  {
   "cell_type": "code",
   "execution_count": 23,
   "metadata": {},
   "outputs": [
    {
     "output_type": "stream",
     "name": "stdout",
     "text": [
      "['india', 'india', 'india', 'india', 'india', 'india', 'india', 'india', 'india', 'india']\nindiaindiaindiaindiaindiaindiaindiaindiaindiaindia\nindia!india!india!india!india!india!india!india!india!india\n"
     ]
    }
   ],
   "source": [
    "# indiaindiaindiaindiaindiaindiaindiaindiaindia\n",
    "s = input(\"Enter the input String\")\n",
    "sepindex = int(input(\"Enter the input String\"))\n",
    "ls=[]\n",
    "idx=0\n",
    "for i in s:\n",
    "    if(idx==0):\n",
    "        idx=idx+sepindex\n",
    "        ls.append(s[0:idx])\n",
    "    elif(idx > 0):\n",
    "        result=s[idx:idx+sepindex]\n",
    "        if(len(result)>0):\n",
    "            ls.append(result)\n",
    "        idx=idx+sepindex\n",
    "print(ls)\n",
    "print(''.join(ls))\n",
    "\n",
    "# The below output joined all the string with the seperator provided here the seperator in no space so there is no space in the result\n",
    "    \n",
    "print('!'.join(ls))\n",
    "    \n",
    "# The below output joined all the string with the seperator provided here the seperator in ! so there is ! in the result as a seperator after every element in the list."
   ]
  },
  {
   "cell_type": "code",
   "execution_count": 24,
   "metadata": {},
   "outputs": [
    {
     "output_type": "stream",
     "name": "stdout",
     "text": [
      "21-02-2021\n"
     ]
    }
   ],
   "source": [
    "l=['21','02','2021']\n",
    "print('-'.join(l))"
   ]
  },
  {
   "cell_type": "code",
   "execution_count": null,
   "metadata": {},
   "outputs": [],
   "source": []
  }
 ]
}