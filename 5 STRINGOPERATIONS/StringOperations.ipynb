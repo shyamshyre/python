{
 "metadata": {
  "language_info": {
   "codemirror_mode": {
    "name": "ipython",
    "version": 3
   },
   "file_extension": ".py",
   "mimetype": "text/x-python",
   "name": "python",
   "nbconvert_exporter": "python",
   "pygments_lexer": "ipython3",
   "version": "3.8.3-final"
  },
  "orig_nbformat": 2,
  "kernelspec": {
   "name": "python3",
   "display_name": "Python 3.8.3 64-bit",
   "metadata": {
    "interpreter": {
     "hash": "0adcc2737ebf6a4a119f135174df96668767fca1ef1112612db5ecadf2b6d608"
    }
   }
  }
 },
 "nbformat": 4,
 "nbformat_minor": 2,
 "cells": [
  {
   "cell_type": "code",
   "execution_count": 1,
   "metadata": {},
   "outputs": [
    {
     "output_type": "stream",
     "name": "stdout",
     "text": [
      "India is a beautfiul country\n"
     ]
    }
   ],
   "source": [
    "s=\"India is a beautfiul country\"\n",
    "print(s)"
   ]
  },
  {
   "cell_type": "code",
   "execution_count": 22,
   "metadata": {},
   "outputs": [
    {
     "output_type": "stream",
     "name": "stdout",
     "text": [
      "India is a beautifu'l country\n"
     ]
    }
   ],
   "source": [
    "# Printing String with the Single Quote..\n",
    "s=\"India is a beautifu'l country\"\n",
    "print(s)"
   ]
  },
  {
   "cell_type": "code",
   "execution_count": 7,
   "metadata": {},
   "outputs": [
    {
     "output_type": "stream",
     "name": "stdout",
     "text": [
      "India is a beautiful country\n"
     ]
    }
   ],
   "source": [
    "s=\"\"\"India is a beautiful country\"\"\"\n",
    "print(s)"
   ]
  },
  {
   "cell_type": "code",
   "execution_count": 31,
   "metadata": {},
   "outputs": [
    {
     "output_type": "error",
     "ename": "IndentationError",
     "evalue": "unexpected indent (<ipython-input-31-f4c460e8b2f0>, line 8)",
     "traceback": [
      "\u001b[0;36m  File \u001b[0;32m\"<ipython-input-31-f4c460e8b2f0>\"\u001b[0;36m, line \u001b[0;32m8\u001b[0m\n\u001b[0;31m    print(s)\u001b[0m\n\u001b[0m    ^\u001b[0m\n\u001b[0;31mIndentationError\u001b[0m\u001b[0;31m:\u001b[0m unexpected indent\n"
     ]
    }
   ],
   "source": [
    "\n",
    "# Multivalued strings can be printed in the following fashion.\n",
    "# this is workig on Python Idle.\n",
    "\n",
    "s= '''India\n",
    "is\n",
    "a\n",
    "beautiful country '''\n",
    " print(s)"
   ]
  },
  {
   "cell_type": "code",
   "execution_count": 19,
   "metadata": {},
   "outputs": [
    {
     "output_type": "stream",
     "name": "stdout",
     "text": [
      "This is ' symbol\n"
     ]
    }
   ],
   "source": [
    " # By using backslash we can print the ' in a string.\n",
    "\n",
    " print(\"This is \\' symbol\")"
   ]
  },
  {
   "cell_type": "code",
   "execution_count": 20,
   "metadata": {},
   "outputs": [
    {
     "output_type": "stream",
     "name": "stdout",
     "text": [
      "This is \t symbol\n"
     ]
    }
   ],
   "source": [
    " print(\"This is \\t symbol\")"
   ]
  },
  {
   "cell_type": "code",
   "execution_count": 21,
   "metadata": {},
   "outputs": [
    {
     "output_type": "stream",
     "name": "stdout",
     "text": [
      "This is \n symbol\n"
     ]
    }
   ],
   "source": [
    " print(\"This is \\n symbol\")"
   ]
  },
  {
   "cell_type": "code",
   "execution_count": 23,
   "metadata": {},
   "outputs": [
    {
     "output_type": "error",
     "ename": "SyntaxError",
     "evalue": "invalid syntax (<ipython-input-23-51158e6f7193>, line 1)",
     "traceback": [
      "\u001b[0;36m  File \u001b[0;32m\"<ipython-input-23-51158e6f7193>\"\u001b[0;36m, line \u001b[0;32m1\u001b[0m\n\u001b[0;31m    s= \" This is \"example of String\" hope you get it\"\u001b[0m\n\u001b[0m                  ^\u001b[0m\n\u001b[0;31mSyntaxError\u001b[0m\u001b[0;31m:\u001b[0m invalid syntax\n"
     ]
    }
   ],
   "source": [
    "s= \" This is \"example of String\" hope you get it\"\n",
    "print(s)"
   ]
  },
  {
   "cell_type": "code",
   "execution_count": 25,
   "metadata": {},
   "outputs": [
    {
     "output_type": "stream",
     "name": "stdout",
     "text": [
      " This is \"example of String\" hop'e you get it\n"
     ]
    }
   ],
   "source": [
    "# Note if printing string value with double quote or single quote then use the triple quotes.\n",
    "# This will remove the pain of double and single quotes in the string.\n",
    "\n",
    "s= ''' This is \"example of String\" hop'e you get it'''\n",
    "print(s)"
   ]
  }
 ]
}