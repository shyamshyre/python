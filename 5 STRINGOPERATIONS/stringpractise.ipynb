{
 "metadata": {
  "language_info": {
   "codemirror_mode": {
    "name": "ipython",
    "version": 3
   },
   "file_extension": ".py",
   "mimetype": "text/x-python",
   "name": "python",
   "nbconvert_exporter": "python",
   "pygments_lexer": "ipython3",
   "version": "3.8.3-final"
  },
  "orig_nbformat": 2,
  "kernelspec": {
   "name": "python3",
   "display_name": "Python 3.8.3 64-bit",
   "metadata": {
    "interpreter": {
     "hash": "0adcc2737ebf6a4a119f135174df96668767fca1ef1112612db5ecadf2b6d608"
    }
   }
  }
 },
 "nbformat": 4,
 "nbformat_minor": 2,
 "cells": [
  {
   "cell_type": "code",
   "execution_count": null,
   "metadata": {},
   "outputs": [],
   "source": [
    "# Wap to reverse the content of the string using slice operator.\n",
    "\n",
    "s=\"Hellow world\"\n",
    "print(s[-1::-1])\n",
    "\n"
   ]
  },
  {
   "cell_type": "code",
   "execution_count": null,
   "metadata": {},
   "outputs": [],
   "source": [
    "# Wap to reverse the string using reversed function\n",
    "s=\"Hellow world\"\n",
    "r = reversed(s)\n",
    "print(r)\n",
    "# for chr in r:\n",
    "#     print(chr)\n",
    "\n",
    "print(''.join(r))"
   ]
  },
  {
   "cell_type": "code",
   "execution_count": null,
   "metadata": {},
   "outputs": [],
   "source": [
    "# wap to reverse the content of the sting using while loop.\n",
    "s=\"Hello World\"\n",
    "slen= len(s)\n",
    "while(slen>0):\n",
    "    print(s[slen-1],end='')\n",
    "    slen-=1\n"
   ]
  },
  {
   "cell_type": "code",
   "execution_count": null,
   "metadata": {},
   "outputs": [],
   "source": [
    "# Wap to print the reverse the words in a a given string.\n",
    "s=\"Welcome to world of Easy Learning Python\"\n",
    "slist= s.split()\n",
    "lslen = len(ss)\n",
    "# //Option1\n",
    "# for idx in slist:\n",
    "#     print(slist[lslen-1])\n",
    "#     lslen-=1\n",
    "\n",
    "print(slist[::-1])\n",
    "(' ').join(slist[::-1])"
   ]
  },
  {
   "cell_type": "code",
   "execution_count": null,
   "metadata": {},
   "outputs": [],
   "source": [
    "# Wap to reverse internal content of each word.\n",
    "s = \"Welcome to world of Easy Learning Python\"\n",
    "slist=s.split()\n",
    "rvslist=[]\n",
    "for i in slist:\n",
    "    print(''.join(reversed(i)),end=' ')\n",
    "    # print((' ').join(reversed(slist[i]))\n",
    "    # # rvslist.append(reversed(slist[i]))\n",
    "\n",
    "# (' ').join(rvslist)\n",
    "\n"
   ]
  },
  {
   "cell_type": "code",
   "execution_count": null,
   "metadata": {},
   "outputs": [],
   "source": [
    "# Wap to print the reverse of every second word in thse given string.\n",
    "\n",
    "s = \"Welcome to world of Easy Learning Python\"\n",
    "wordslist= s.split()\n",
    "counter = 0\n",
    "resultlist=[]\n",
    "for i in wordslist:\n",
    "    counter+=1\n",
    "    if(counter %2==0):\n",
    "        resultlist.append(''.join(reversed(i)))\n",
    "    else:\n",
    "        resultlist.append(i)\n",
    "        \n",
    "print(' '.join(resultlist))\n"
   ]
  },
  {
   "cell_type": "code",
   "execution_count": null,
   "metadata": {},
   "outputs": [],
   "source": [
    "# WAP to print even index and odd index characters seperately\n",
    "s = \"Welcome\"\n",
    "oddlist=[]\n",
    "evenlist=[]\n",
    "for i in range(len(s)-1):\n",
    "\n",
    "    if(i%2==0):\n",
    "      evenlist.append(s[i])\n",
    "    else:\n",
    "      oddlist.append(s[i])\n",
    "i+=1\n",
    "print(\"Character present at even list index\")  \n",
    "for j in evenlist:\n",
    "    print(j)\n",
    "print(\"Character present at odd list index\")  \n",
    "for k in oddlist:\n",
    "    print(k)\n",
    "\n"
   ]
  },
  {
   "cell_type": "code",
   "execution_count": null,
   "metadata": {},
   "outputs": [],
   "source": [
    "# WAP to merge charcters of 2 strings into a single string by taking characters alternatively.\n",
    "s1=\"SHYAM\"\n",
    "s2=\"EESHU\"\n",
    "# Output::S E H E Y S A H M U\n",
    "result=[]\n",
    "maxlength= len(s1) if(len(s1)>len(s2)) else len(s2)\n",
    "for i in range(maxlength):\n",
    "    if(s1[i].isalnum() and s2[i].isalnum()):\n",
    "        result.append(s1[i])\n",
    "        result.append(s2[i])\n",
    "print((' ').join(result))\n",
    "    \n",
    "\n"
   ]
  },
  {
   "cell_type": "code",
   "execution_count": null,
   "metadata": {},
   "outputs": [],
   "source": [
    "# WAP to sort characters of the string first alphabets then numeric's\n",
    "s1=\"S1H2Y3A4M\"\n",
    "alphalist=[]\n",
    "nolist=[]\n",
    "for i in s1:\n",
    "    if(i.isalnum()):\n",
    "        if(i.isdigit()):\n",
    "            nolist.append(i)\n",
    "        elif(i.isalpha()):\n",
    "            alphalist.append(i)\n",
    "print(''.join(alphalist)+''.join(nolist))\n",
    "\n"
   ]
  },
  {
   "cell_type": "code",
   "execution_count": 107,
   "metadata": {},
   "outputs": [
    {
     "output_type": "stream",
     "name": "stdout",
     "text": [
      "aaaabbbcc"
     ]
    }
   ],
   "source": [
    "# WAP to print the INPUT provided string in following format\n",
    "# Ex:: INPUT:: a4b3c2 Output:: aaaabbbcc\n",
    "s=\"a4b3c2\"\n",
    "alpha=\"\"\n",
    "for i in s:\n",
    "    if(i.isalnum()):\n",
    "        if(i.isalpha()):\n",
    "            alpha=i\n",
    "        if(i.isdigit()):\n",
    "            print(int(i)*alpha,end=\"\")\n"
   ]
  },
  {
   "cell_type": "code",
   "execution_count": 115,
   "metadata": {},
   "outputs": [
    {
     "output_type": "stream",
     "name": "stdout",
     "text": [
      "aaaacczzz\n"
     ]
    }
   ],
   "source": [
    "# WAP to print the INPUT provided string in following format\n",
    "# Sort and print the characters.\n",
    "# Ex:: INPUT:: a4z3c2 Output:: aaaacczzz\n",
    "s=\"a4z3c2\"\n",
    "sortedresult=\"\"\n",
    "finalresult=\"\"\n",
    "alpha=\"\"\n",
    "for i in s:\n",
    "    if(i.isalnum()):\n",
    "        if(i.isalpha()):\n",
    "            alpha=i\n",
    "        if(i.isdigit()):\n",
    "            sortedresult=int(i)*alpha\n",
    "            finalresult+=(sortedresult)\n",
    "print(''.join(sorted(finalresult)))"
   ]
  },
  {
   "cell_type": "code",
   "execution_count": 131,
   "metadata": {},
   "outputs": [
    {
     "output_type": "stream",
     "name": "stdout",
     "text": [
      "a4c2z3"
     ]
    }
   ],
   "source": [
    "# WAP to print the INPUT provided string in following format\n",
    "# Sort and print the characters.\n",
    "# Ex:: Input:: aaaacczzz Output:: a4z3c2 \n",
    "s=\"aaaacczzz\"\n",
    "l=[]\n",
    "for i in s:\n",
    "    ctrcounter=s.count(i)\n",
    "    if(i not in l):\n",
    "        l.append(i)\n",
    "        l.append(ctrcounter)\n",
    "\n",
    "for j in l:\n",
    "    print(j,end=\"\")\n",
    "\n",
    "\n",
    "\n"
   ]
  },
  {
   "cell_type": "code",
   "execution_count": null,
   "metadata": {},
   "outputs": [],
   "source": []
  }
 ]
}