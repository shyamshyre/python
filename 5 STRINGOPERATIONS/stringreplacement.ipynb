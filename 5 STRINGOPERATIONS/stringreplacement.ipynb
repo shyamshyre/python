{
 "metadata": {
  "language_info": {
   "codemirror_mode": {
    "name": "ipython",
    "version": 3
   },
   "file_extension": ".py",
   "mimetype": "text/x-python",
   "name": "python",
   "nbconvert_exporter": "python",
   "pygments_lexer": "ipython3",
   "version": "3.8.3-final"
  },
  "orig_nbformat": 2,
  "kernelspec": {
   "name": "python3",
   "display_name": "Python 3.8.3 64-bit",
   "metadata": {
    "interpreter": {
     "hash": "0adcc2737ebf6a4a119f135174df96668767fca1ef1112612db5ecadf2b6d608"
    }
   }
  }
 },
 "nbformat": 4,
 "nbformat_minor": 2,
 "cells": [
  {
   "source": [
    "# Syntax:: repalce('oldstring', 'newstring')\n",
    "# This method is used to replace the oldstring value witht he new string.\n",
    "# replace method is case sensitive r is different from R.\n",
    "\n",
    "s=\"Welcome to Earth\"\n",
    "s.replace('Earth','Mars')"
   ],
   "cell_type": "code",
   "metadata": {},
   "execution_count": null,
   "outputs": []
  },
  {
   "cell_type": "code",
   "execution_count": null,
   "metadata": {},
   "outputs": [],
   "source": [
    "s=\"Welcome to Earth\"\n",
    "s.replace('e','a')"
   ]
  },
  {
   "cell_type": "code",
   "execution_count": null,
   "metadata": {},
   "outputs": [],
   "source": [
    "s=\"Welcome to world of Python\"\n",
    "s.replace(' ','')"
   ]
  },
  {
   "cell_type": "code",
   "execution_count": null,
   "metadata": {},
   "outputs": [],
   "source": [
    "# For example if you wan to find the number of spaces in the string without using count\n",
    "s=\"Welcome to world of Python\"\n",
    "s1=s.replace(' ','')\n",
    "print(\"the number of spaces are\", len(s)-len(s1))\n"
   ]
  },
  {
   "cell_type": "code",
   "execution_count": 11,
   "metadata": {},
   "outputs": [
    {
     "output_type": "stream",
     "name": "stdout",
     "text": [
      "140341823403632\n140341015963488\nWelome to torld of Python\n"
     ]
    }
   ],
   "source": [
    "# Replace is case sensitive the w is replaced by t but not W\n",
    "# As the string is immutable , and as we are trying to update the same string variable s \n",
    "# it has created a object and pointings to it.\n",
    "# so the address of s got changed after replacing the w with t.\n",
    "s=\"Welome to world of Python\"\n",
    "print(id(s))\n",
    "s=s.replace('w','t')\n",
    "print(id(s))\n",
    "print(s.replace('w','t'))"
   ]
  },
  {
   "cell_type": "code",
   "execution_count": null,
   "metadata": {},
   "outputs": [],
   "source": []
  }
 ]
}