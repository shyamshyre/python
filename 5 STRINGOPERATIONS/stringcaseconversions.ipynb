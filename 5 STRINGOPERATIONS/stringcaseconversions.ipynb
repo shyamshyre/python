{
 "metadata": {
  "language_info": {
   "codemirror_mode": {
    "name": "ipython",
    "version": 3
   },
   "file_extension": ".py",
   "mimetype": "text/x-python",
   "name": "python",
   "nbconvert_exporter": "python",
   "pygments_lexer": "ipython3",
   "version": "3.8.3-final"
  },
  "orig_nbformat": 2,
  "kernelspec": {
   "name": "python3",
   "display_name": "Python 3.8.3 64-bit",
   "metadata": {
    "interpreter": {
     "hash": "0adcc2737ebf6a4a119f135174df96668767fca1ef1112612db5ecadf2b6d608"
    }
   }
  }
 },
 "nbformat": 4,
 "nbformat_minor": 2,
 "cells": [
  {
   "cell_type": "code",
   "execution_count": 3,
   "metadata": {},
   "outputs": [
    {
     "output_type": "stream",
     "name": "stdout",
     "text": [
      "INDIA IS GREAT COUNTRY\nindia is great country\nINDIA IS GREAT COUNTRY\nIndia is great country\n"
     ]
    }
   ],
   "source": [
    "# Changing case of a string.\n",
    "# 1) upper() :: to convert the given string into upper case.\n",
    "\n",
    "\n",
    "# 2) lower() :: to convert the given string into lower case.\n",
    "\n",
    "# 3) swapcase() :: to convert the given input string into opposite case (lower to upper) / (upper to lower).\n",
    "# ex: helloworld\n",
    "# Res:: HELLOWORLD\n",
    "\n",
    "# 4 title() :: to convert the text to title case.\n",
    "# every starting word of the string is turned to be capital.\n",
    "# Ex: india is great\n",
    "# Res:: India Is Great.\n",
    "\n",
    "# 5) capitalize() :: this mehod returns the captialized string.\n",
    "# capitalize means only the starting letter of the string is capital and rest others are small letters.\n",
    "#Ex: india is great\n",
    "# Res:: India is great.\n",
    "\n",
    "\n",
    "s=\"india is great country\"\n",
    "s1=s.upper()\n",
    "print(s1)\n",
    "print(s1.lower())\n",
    "print(s.swapcase())\n",
    "print(s1.capitalize())\n"
   ]
  },
  {
   "cell_type": "code",
   "execution_count": 5,
   "metadata": {},
   "outputs": [
    {
     "output_type": "stream",
     "name": "stdout",
     "text": [
      "both are not equal\n"
     ]
    }
   ],
   "source": [
    "# Wap to compare the 2 string and check whether they are same or not\n",
    "\n",
    "s1= input(\"Enter the first string\")\n",
    "s2= input(\"Enter the second string\")\n",
    "\n",
    "if(s1==s2):\n",
    "    print(\"both are equal\")\n",
    "else:\n",
    "    print(\"both are not equal\")\n",
    "\n",
    "# INPUT :: INDIA india as == is casesensitive   "
   ]
  },
  {
   "cell_type": "code",
   "execution_count": 7,
   "metadata": {},
   "outputs": [
    {
     "output_type": "stream",
     "name": "stdout",
     "text": [
      "both are equal\n"
     ]
    }
   ],
   "source": [
    "# Wap to compare the 2 string and check whether they are same or not\n",
    "\n",
    "s1= input(\"Enter the first string\")\n",
    "s2= input(\"Enter the second string\")\n",
    "\n",
    "if(s1.lower()==s2.lower()):\n",
    "    print(\"both are equal\")\n",
    "else:\n",
    "    print(\"both are not equal\")\n",
    "\n",
    "# INPUT :: INDIA india still works as both of them are converted to lower strings.   "
   ]
  },
  {
   "cell_type": "code",
   "execution_count": 10,
   "metadata": {},
   "outputs": [
    {
     "output_type": "stream",
     "name": "stdout",
     "text": [
      "Unauthorized user\n"
     ]
    }
   ],
   "source": [
    "# Wap to check whether username ans password are same or not.\n",
    "# username : not case sensitive\n",
    "# password : case sensitive\n",
    "\n",
    "uname=\"india\"\n",
    "password=\"WelC0me\"\n",
    "s1= input(\"Enter the username \")\n",
    "s2= input(\"Enter the password\")\n",
    "\n",
    "if(s1.lower() == uname.lower() and (s2 == password)):\n",
    "    print('Welcome user')\n",
    "else:\n",
    "    print('Unauthorized user')\n",
    "\n",
    "#INUT ::  Uname :: INDIA , Password:: WelC0me Output:: Authorized User\n",
    "#INUT ::  Uname :: india , Password:: wewewe Output:: Unauthorized User"
   ]
  },
  {
   "cell_type": "code",
   "execution_count": 16,
   "metadata": {},
   "outputs": [
    {
     "output_type": "stream",
     "name": "stdout",
     "text": [
      "4\n"
     ]
    }
   ],
   "source": [
    "# WAP to convert first and last character as uppercase and rest as lower cases.\n",
    "\n",
    "s1 = input(\"Enter the first string\")\n",
    "print(s1[0].upper() + s1[1:len(s1)-2] + s1[len(s1)-1].upper())\n",
    "\n",
    "\n"
   ]
  },
  {
   "cell_type": "code",
   "execution_count": null,
   "metadata": {},
   "outputs": [],
   "source": []
  }
 ]
}